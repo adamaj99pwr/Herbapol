{
 "cells": [
  {
   "cell_type": "code",
   "execution_count": 1,
   "id": "055a93de",
   "metadata": {},
   "outputs": [],
   "source": [
    "import numpy as np\n",
    "import random\n",
    "import scipy.stats as ss\n",
    "import matplotlib.pyplot as plt\n",
    "import networkx as nx\n",
    "import pandas as pd"
   ]
  },
  {
   "cell_type": "markdown",
   "id": "a38cd802",
   "metadata": {},
   "source": [
    "# Basic threshold model"
   ]
  },
  {
   "cell_type": "markdown",
   "id": "ce1df770",
   "metadata": {},
   "source": [
    "## Time to consensus"
   ]
  },
  {
   "cell_type": "code",
   "execution_count": 2,
   "id": "92a1d65e",
   "metadata": {},
   "outputs": [],
   "source": [
    "def extract_data(graph, opinion0_prob):\n",
    "    G = nx.number_of_nodes(graph)\n",
    "    nodes = list(graph.nodes())\n",
    "    opinion0_count = int(opinion0_prob*G)\n",
    "    opinions = [-1]*opinion0_count + [1]*(G - opinion0_count)\n",
    "    random.shuffle(opinions)\n",
    "    neighbors = [0]*G\n",
    "    for i in range(G):\n",
    "        neighbors[i] = list(graph.neighbors(nodes[i]))\n",
    "    return opinions, neighbors"
   ]
  },
  {
   "cell_type": "code",
   "execution_count": 3,
   "id": "89fd95c6",
   "metadata": {},
   "outputs": [],
   "source": [
    "def sym_to_consensus(graph, opinion0_prob, q, q0, epsilon, max_steps = 10**6):\n",
    "    last_values = np.empty(10000)\n",
    "    data = extract_data(graph, opinion0_prob)\n",
    "    opinions, neighbors = data\n",
    "    len_opinions = len(opinions)\n",
    "    step = 0\n",
    "    while len(list(set(opinions))) == 2 and step < max_steps:\n",
    "        chosen = np.random.randint(0, len_opinions)\n",
    "        opinion = opinions[chosen]\n",
    "        chosen_neighbors = random.sample(neighbors[chosen], k = q)\n",
    "        chosen_opinions = [opinions[i] for i in chosen_neighbors]\n",
    "        opposite_opinion = chosen_opinions.count(-1*opinion)\n",
    "        if opposite_opinion >= q0 or (epsilon  > np.random.uniform() and opposite_opinion > 0):\n",
    "            opinions[chosen] *= -1\n",
    "        step += 1\n",
    "        \n",
    "    return step"
   ]
  },
  {
   "cell_type": "code",
   "execution_count": 4,
   "id": "ac3148f5",
   "metadata": {},
   "outputs": [],
   "source": [
    "def monte_carlo_sym_random(n, graph_prob, MC_steps, opinion0_prob, q, q0, epsilon, max_steps):\n",
    "    mean_step = 0\n",
    "    steps = 0\n",
    "    counter = 0\n",
    "    for i in range(MC_steps):\n",
    "        g = nx.erdos_renyi_graph(n, graph_prob)\n",
    "        while min(dict(g.degree()).values()) < q:\n",
    "            print('Need more neighbors')\n",
    "            g = nx.erdos_renyi_graph(n, graph_prob)\n",
    "        steps = sym_to_consensus(g, opinion0_prob, q, q0, epsilon, max_steps)\n",
    "        mean_step += steps\n",
    "        if steps == max_steps:\n",
    "            counter += 1\n",
    "            if counter == 3:\n",
    "                return 0\n",
    "    return mean_step / MC_steps"
   ]
  },
  {
   "cell_type": "code",
   "execution_count": 5,
   "id": "9afb4db2",
   "metadata": {},
   "outputs": [],
   "source": [
    "def monte_carlo_sym_watts(n, watts_edges, watts_prob, MC_steps, opinion0_prob, q, q0, epsilon, max_steps):\n",
    "    mean_step = 0\n",
    "    steps = 0\n",
    "    counter = 0\n",
    "    for i in range(MC_steps):\n",
    "        g = nx.watts_strogatz_graph(n, watts_edges, watts_prob)\n",
    "        while min(dict(g.degree()).values()) < q:\n",
    "            print('Need more neighbors')\n",
    "            g = nx.watts_strogatz_graph(n, watts_edges, watts_prob)\n",
    "        steps += sym_to_consensus(g, opinion0_prob, q, q0, epsilon, max_steps)\n",
    "        mean_step += steps\n",
    "        if steps == max_steps:\n",
    "            counter += 1\n",
    "            if counter == 3:\n",
    "                return 0\n",
    "    return mean_step / MC_steps"
   ]
  },
  {
   "cell_type": "code",
   "execution_count": 6,
   "id": "de091c62",
   "metadata": {},
   "outputs": [],
   "source": [
    "def monte_carlo_sym_barabasi(n, barabasi_edges, MC_steps, opinion0_prob, q, q0, epsilon, max_steps):\n",
    "    mean_step = 0\n",
    "    steps = 0\n",
    "    counter = 0\n",
    "    for i in range(MC_steps):\n",
    "        g = nx.barabasi_albert_graph(n, barabasi_edges)\n",
    "        while min(dict(g.degree()).values()) < q:\n",
    "            print('Need more neighbors')\n",
    "            barabasi_edges += 1\n",
    "            g = nx.barabasi_albert_graph(N, barabasi_edges)\n",
    "        steps = sym_to_consensus(g, opinion0_prob, q, q0, epsilon, max_steps)\n",
    "        mean_step += steps\n",
    "        if steps == max_steps:\n",
    "            counter += 1\n",
    "            if counter == 3:\n",
    "                print((0, i))\n",
    "                return 0\n",
    "    return mean_step / MC_steps"
   ]
  },
  {
   "cell_type": "code",
   "execution_count": 7,
   "id": "74e28f22",
   "metadata": {
    "scrolled": false
   },
   "outputs": [],
   "source": [
    "def consensus_time_random(ns, graph_prob, epsilon, MC_steps, opinion0_prob, q, q0, max_steps = 10**6):\n",
    "    mean_times = np.empty(len(ns))\n",
    "    for n in range(len(ns)):\n",
    "        print(ns[n])\n",
    "        mean_times[n] = monte_carlo_sym_random(ns[n], graph_prob, MC_steps, opinion0_prob, q, q0, epsilon, max_steps)\n",
    "    return mean_times"
   ]
  },
  {
   "cell_type": "code",
   "execution_count": 8,
   "id": "8587a706",
   "metadata": {},
   "outputs": [],
   "source": [
    "def consensus_time_barabasi(ns, barabasi_edges, epsilon, MC_steps, opinion0_prob, q, q0, max_steps = 10**6):\n",
    "    mean_times = np.empty(len(ns))\n",
    "    for n in range(len(ns)):\n",
    "        print(ns[n])\n",
    "        mean_times[n] = monte_carlo_sym_barabasi(ns[n], barabasi_edges, MC_steps, opinion0_prob, q, q0, epsilon, max_steps)\n",
    "    return mean_times"
   ]
  },
  {
   "cell_type": "code",
   "execution_count": 9,
   "id": "ebef3d7c",
   "metadata": {},
   "outputs": [],
   "source": [
    "def consensus_time_watts(ns, watts_edges, watts_prob, epsilon, MC_steps, opinion0_prob, q, q0, max_steps = 10**6):\n",
    "    mean_times = np.empty(len(ns))\n",
    "    for n in range(len(ns)):\n",
    "        print(ns[n])\n",
    "        mean_times[n] = monte_carlo_sym_watts(ns[n], watts_edges, watts_prob, MC_steps, opinion0_prob, q, q0, epsilon, max_steps)\n",
    "    return mean_times"
   ]
  },
  {
   "cell_type": "markdown",
   "id": "17f3f0e6",
   "metadata": {},
   "source": [
    "### Barabasi"
   ]
  },
  {
   "cell_type": "code",
   "execution_count": 393,
   "id": "dc9a95c4",
   "metadata": {},
   "outputs": [],
   "source": [
    "ns = [100, 250, 500, 1000, 1500, 2000, 2500, 3000, 4000, 5000]\n",
    "epsilons = np.arange(0.1, 0.5, 0.1)\n",
    "q = 6\n",
    "q0 = 4\n",
    "MC_steps = 100\n",
    "opinion0_prob = 0.5\n",
    "barabasi_edges = 8"
   ]
  },
  {
   "cell_type": "code",
   "execution_count": 394,
   "id": "5e5727bb",
   "metadata": {},
   "outputs": [
    {
     "name": "stdout",
     "output_type": "stream",
     "text": [
      "0.1\n",
      "100\n",
      "Need more neighbors\n"
     ]
    },
    {
     "ename": "UnboundLocalError",
     "evalue": "local variable 'edges' referenced before assignment",
     "output_type": "error",
     "traceback": [
      "\u001b[1;31m---------------------------------------------------------------------------\u001b[0m",
      "\u001b[1;31mUnboundLocalError\u001b[0m                         Traceback (most recent call last)",
      "\u001b[1;32m<timed exec>\u001b[0m in \u001b[0;36m<module>\u001b[1;34m\u001b[0m\n",
      "\u001b[1;32m~\\AppData\\Local\\Temp/ipykernel_17628/3109256814.py\u001b[0m in \u001b[0;36mconsensus_time_barabasi\u001b[1;34m(ns, barabasi_edges, epsilon, MC_steps, opinion0_prob, q, q0, max_steps)\u001b[0m\n\u001b[0;32m      3\u001b[0m     \u001b[1;32mfor\u001b[0m \u001b[0mn\u001b[0m \u001b[1;32min\u001b[0m \u001b[0mrange\u001b[0m\u001b[1;33m(\u001b[0m\u001b[0mlen\u001b[0m\u001b[1;33m(\u001b[0m\u001b[0mns\u001b[0m\u001b[1;33m)\u001b[0m\u001b[1;33m)\u001b[0m\u001b[1;33m:\u001b[0m\u001b[1;33m\u001b[0m\u001b[1;33m\u001b[0m\u001b[0m\n\u001b[0;32m      4\u001b[0m         \u001b[0mprint\u001b[0m\u001b[1;33m(\u001b[0m\u001b[0mns\u001b[0m\u001b[1;33m[\u001b[0m\u001b[0mn\u001b[0m\u001b[1;33m]\u001b[0m\u001b[1;33m)\u001b[0m\u001b[1;33m\u001b[0m\u001b[1;33m\u001b[0m\u001b[0m\n\u001b[1;32m----> 5\u001b[1;33m         \u001b[0mmean_times\u001b[0m\u001b[1;33m[\u001b[0m\u001b[0mn\u001b[0m\u001b[1;33m]\u001b[0m \u001b[1;33m=\u001b[0m \u001b[0mmonte_carlo_sym_barabasi\u001b[0m\u001b[1;33m(\u001b[0m\u001b[0mns\u001b[0m\u001b[1;33m[\u001b[0m\u001b[0mn\u001b[0m\u001b[1;33m]\u001b[0m\u001b[1;33m,\u001b[0m \u001b[0mbarabasi_edges\u001b[0m\u001b[1;33m,\u001b[0m \u001b[0mMC_steps\u001b[0m\u001b[1;33m,\u001b[0m \u001b[0mopinion0_prob\u001b[0m\u001b[1;33m,\u001b[0m \u001b[0mq\u001b[0m\u001b[1;33m,\u001b[0m \u001b[0mq0\u001b[0m\u001b[1;33m,\u001b[0m \u001b[0mepsilon\u001b[0m\u001b[1;33m,\u001b[0m \u001b[0mmax_steps\u001b[0m\u001b[1;33m)\u001b[0m\u001b[1;33m\u001b[0m\u001b[1;33m\u001b[0m\u001b[0m\n\u001b[0m\u001b[0;32m      6\u001b[0m     \u001b[1;32mreturn\u001b[0m \u001b[0mmean_times\u001b[0m\u001b[1;33m\u001b[0m\u001b[1;33m\u001b[0m\u001b[0m\n",
      "\u001b[1;32m~\\AppData\\Local\\Temp/ipykernel_17628/337815676.py\u001b[0m in \u001b[0;36mmonte_carlo_sym_barabasi\u001b[1;34m(n, barabasi_edges, MC_steps, opinion0_prob, q, q0, epsilon, max_steps)\u001b[0m\n\u001b[0;32m      7\u001b[0m         \u001b[1;32mwhile\u001b[0m \u001b[0mmin\u001b[0m\u001b[1;33m(\u001b[0m\u001b[0mdict\u001b[0m\u001b[1;33m(\u001b[0m\u001b[0mg\u001b[0m\u001b[1;33m.\u001b[0m\u001b[0mdegree\u001b[0m\u001b[1;33m(\u001b[0m\u001b[1;33m)\u001b[0m\u001b[1;33m)\u001b[0m\u001b[1;33m.\u001b[0m\u001b[0mvalues\u001b[0m\u001b[1;33m(\u001b[0m\u001b[1;33m)\u001b[0m\u001b[1;33m)\u001b[0m \u001b[1;33m<\u001b[0m \u001b[0mq\u001b[0m\u001b[1;33m:\u001b[0m\u001b[1;33m\u001b[0m\u001b[1;33m\u001b[0m\u001b[0m\n\u001b[0;32m      8\u001b[0m             \u001b[0mprint\u001b[0m\u001b[1;33m(\u001b[0m\u001b[1;34m'Need more neighbors'\u001b[0m\u001b[1;33m)\u001b[0m\u001b[1;33m\u001b[0m\u001b[1;33m\u001b[0m\u001b[0m\n\u001b[1;32m----> 9\u001b[1;33m             \u001b[0medges\u001b[0m \u001b[1;33m+=\u001b[0m \u001b[1;36m1\u001b[0m\u001b[1;33m\u001b[0m\u001b[1;33m\u001b[0m\u001b[0m\n\u001b[0m\u001b[0;32m     10\u001b[0m             \u001b[0mg\u001b[0m \u001b[1;33m=\u001b[0m \u001b[0mnx\u001b[0m\u001b[1;33m.\u001b[0m\u001b[0mbarabasi_albert_graph\u001b[0m\u001b[1;33m(\u001b[0m\u001b[0mN\u001b[0m\u001b[1;33m,\u001b[0m \u001b[0medges\u001b[0m\u001b[1;33m)\u001b[0m\u001b[1;33m\u001b[0m\u001b[1;33m\u001b[0m\u001b[0m\n\u001b[0;32m     11\u001b[0m         \u001b[0msteps\u001b[0m \u001b[1;33m=\u001b[0m \u001b[0msym_to_consensus\u001b[0m\u001b[1;33m(\u001b[0m\u001b[0mg\u001b[0m\u001b[1;33m,\u001b[0m \u001b[0mopinion0_prob\u001b[0m\u001b[1;33m,\u001b[0m \u001b[0mq\u001b[0m\u001b[1;33m,\u001b[0m \u001b[0mq0\u001b[0m\u001b[1;33m,\u001b[0m \u001b[0mepsilon\u001b[0m\u001b[1;33m,\u001b[0m \u001b[0mmax_steps\u001b[0m\u001b[1;33m)\u001b[0m\u001b[1;33m\u001b[0m\u001b[1;33m\u001b[0m\u001b[0m\n",
      "\u001b[1;31mUnboundLocalError\u001b[0m: local variable 'edges' referenced before assignment"
     ]
    }
   ],
   "source": [
    "%%time\n",
    "l = []\n",
    "for e in epsilons:\n",
    "    print(e)\n",
    "    l.append(consensus_time_barabasi(ns, barabasi_edges, e, MC_steps, opinion0_prob, q, q0, max_steps = 10**6))"
   ]
  },
  {
   "cell_type": "code",
   "execution_count": null,
   "id": "fe41409f",
   "metadata": {},
   "outputs": [],
   "source": [
    "df = pd.DataFrame(l, columns = ns)\n",
    "df.to_csv('Barabasi.csv')\n",
    "df = pd.DataFrame(big_steps_barabasi, columns = ns)\n",
    "df.to_csv('Barabasi_big.csv')"
   ]
  },
  {
   "cell_type": "code",
   "execution_count": 203,
   "id": "4e8a87e6",
   "metadata": {},
   "outputs": [
    {
     "data": {
      "text/plain": [
       "<matplotlib.legend.Legend at 0x1cfeb55b160>"
      ]
     },
     "execution_count": 203,
     "metadata": {},
     "output_type": "execute_result"
    },
    {
     "data": {
      "image/png": "[encoded data removed]",
      "text/plain": [
       "<Figure size 432x288 with 1 Axes>"
      ]
     },
     "metadata": {
      "needs_background": "light"
     },
     "output_type": "display_data"
    }
   ],
   "source": [
    "for e in l:\n",
    "    plt.plot(ns, e)\n",
    "plt.legend(epsilons)"
   ]
  },
  {
   "cell_type": "markdown",
   "id": "f88682bd",
   "metadata": {},
   "source": [
    "### Watts"
   ]
  },
  {
   "cell_type": "code",
   "execution_count": 65,
   "id": "608055a3",
   "metadata": {},
   "outputs": [],
   "source": [
    "ns = [100, 250, 500, 1000, 1500, 2000, 2500, 3000, 4000, 5000]\n",
    "epsilons = np.arange(0.1, 0.45, 0.05)\n",
    "q = 6\n",
    "q0 = 4\n",
    "MC_steps = 100\n",
    "opinion0_prob = 0.5 \n",
    "watts_edges, watts_prob = 12, 0.5"
   ]
  },
  {
   "cell_type": "code",
   "execution_count": null,
   "id": "69a447b3",
   "metadata": {
    "collapsed": true
   },
   "outputs": [
    {
     "name": "stdout",
     "output_type": "stream",
     "text": [
      "0.1\n",
      "100\n",
      "250\n",
      "500\n",
      "1000\n",
      "1500\n",
      "2000\n",
      "2500\n",
      "3000\n",
      "4000\n",
      "5000\n",
      "0.15000000000000002\n",
      "100\n",
      "250\n",
      "500\n",
      "1000\n",
      "1500\n",
      "2000\n",
      "2500\n",
      "3000\n",
      "4000\n",
      "5000\n",
      "0.20000000000000004\n",
      "100\n",
      "250\n",
      "500\n",
      "1000\n",
      "1500\n",
      "2000\n",
      "2500\n",
      "3000\n",
      "4000\n",
      "5000\n",
      "0.25000000000000006\n",
      "100\n",
      "250\n",
      "500\n",
      "1000\n",
      "1500\n",
      "2000\n",
      "2500\n",
      "3000\n",
      "4000\n",
      "5000\n",
      "0.30000000000000004\n",
      "100\n",
      "250\n",
      "500\n",
      "1000\n",
      "1500\n",
      "2000\n",
      "2500\n",
      "3000\n",
      "4000\n"
     ]
    }
   ],
   "source": [
    "%%time\n",
    "l = []\n",
    "for e in epsilons:\n",
    "    print(e)\n",
    "    l.append(consensus_time_watts(ns, watts_edges, watts_prob, e, MC_steps, opinion0_prob, q, q0, max_steps = 10**6))"
   ]
  },
  {
   "cell_type": "code",
   "execution_count": null,
   "id": "a947c5d9",
   "metadata": {},
   "outputs": [],
   "source": [
    "df = pd.DataFrame(l, columns = ns)\n",
    "df.to_csv('Watts.csv')\n",
    "df = pd.DataFrame(big_steps_watts, columns = ns)\n",
    "df.to_csv('Watts_big.csv')"
   ]
  },
  {
   "cell_type": "code",
   "execution_count": null,
   "id": "a4c1772f",
   "metadata": {},
   "outputs": [],
   "source": [
    "for e in l:\n",
    "    plt.plot(ns, e)\n",
    "plt.legend(epsilons)"
   ]
  },
  {
   "cell_type": "markdown",
   "id": "b5b2fcd4",
   "metadata": {},
   "source": [
    "### Random"
   ]
  },
  {
   "cell_type": "code",
   "execution_count": null,
   "id": "aff1b3d2",
   "metadata": {},
   "outputs": [],
   "source": [
    "ns = [100, 250, 500, 1000, 1500, 2000, 2500, 3000, 4000, 5000]\n",
    "epsilons = np.arange(0.1, 0.45, 0.05)\n",
    "q = 6\n",
    "q0 = 4\n",
    "MC_steps = 100\n",
    "opinion0_prob = 0.5 \n",
    "graph_prob = 1"
   ]
  },
  {
   "cell_type": "code",
   "execution_count": null,
   "id": "50494371",
   "metadata": {
    "scrolled": true
   },
   "outputs": [],
   "source": [
    "%%time\n",
    "l = []\n",
    "for e in epsilons:\n",
    "    print(e)\n",
    "    l.append(consensus_time_random(ns, graph_prob, e, MC_steps, opinion0_prob, q, q0, max_steps = 10**6))"
   ]
  },
  {
   "cell_type": "code",
   "execution_count": null,
   "id": "77639c44",
   "metadata": {},
   "outputs": [],
   "source": [
    "df = pd.DataFrame(l, columns = ns)\n",
    "df.to_csv('Random.csv')\n",
    "df = pd.DataFrame(big_steps_random, columns = ns)\n",
    "df.to_csv('random_big.csv')"
   ]
  },
  {
   "cell_type": "code",
   "execution_count": null,
   "id": "38abf869",
   "metadata": {},
   "outputs": [],
   "source": [
    "for e in l[:-1]:\n",
    "    plt.plot(ns, e)\n",
    "plt.plot(ns[:3], l[-1][:3])\n",
    "plt.legend(epsilons)"
   ]
  },
  {
   "cell_type": "code",
   "execution_count": null,
   "id": "c41ff834",
   "metadata": {},
   "outputs": [],
   "source": [
    "def monte_carlo_sym_random(n, graph_prob, MC_steps, graph, opinion0_prob, q, q0, epsilon, max_steps):\n",
    "    mean_step = 0\n",
    "    for i in range(MC_steps):\n",
    "        g = nx.erdos_renyi_graph(n, graph_prob)\n",
    "        while min(dict(g.degree()).values()) < q:\n",
    "            print('Need more neighbors')\n",
    "            g = nx.erdos_renyi_graph(ns[n], graph_prob)\n",
    "        mean_step += sym_to_consensus(g, opinion0_prob, q, q0, epsilon, big_steps_random2, max_steps)\n",
    "    return mean_step/MC_steps"
   ]
  },
  {
   "cell_type": "code",
   "execution_count": null,
   "id": "219d5422",
   "metadata": {},
   "outputs": [],
   "source": [
    "ns = [100, 250, 500, 1000, 1500, 2000, 2500, 3000, 4000, 5000]\n",
    "epsilons = np.arange(0.1, 0.45, 0.05)\n",
    "q = 6\n",
    "q0 = 4\n",
    "MC_steps = 100\n",
    "opinion0_prob = 0.5 \n",
    "graph_prob = 0.6"
   ]
  },
  {
   "cell_type": "code",
   "execution_count": null,
   "id": "8f485929",
   "metadata": {},
   "outputs": [],
   "source": [
    "%%time\n",
    "l = []\n",
    "for e in epsilons:\n",
    "    print(e)\n",
    "    l.append(consensus_time_random(ns, graph_prob, e, MC_steps, opinion0_prob, q, q0, max_steps = 10**6))"
   ]
  },
  {
   "cell_type": "code",
   "execution_count": null,
   "id": "5a52f7a0",
   "metadata": {},
   "outputs": [],
   "source": [
    "df = pd.DataFrame(l, columns = ns)\n",
    "df.to_csv('Random2.csv')\n",
    "df = pd.DataFrame(big_steps_random2, columns = ns)\n",
    "df.to_csv('random_big2.csv')"
   ]
  },
  {
   "cell_type": "markdown",
   "id": "df079cc6",
   "metadata": {},
   "source": [
    "## Magnetization"
   ]
  },
  {
   "cell_type": "code",
   "execution_count": 641,
   "id": "d85150ef",
   "metadata": {},
   "outputs": [],
   "source": [
    "def sym_magnetization(graph, opinion0_prob, q, q0, epsilon, max_steps = 10**6):\n",
    "    last_values = np.empty(10000)\n",
    "    data = extract_data(graph, opinion0_prob)\n",
    "    opinions, neighbors = data\n",
    "    len_opinions = len(opinions)\n",
    "    step = 0\n",
    "    magnetization = np.empty(max_steps)\n",
    "    while len(list(set(opinions))) == 2 and step < max_steps:\n",
    "        chosen = np.random.randint(0, len_opinions)\n",
    "        opinion = opinions[chosen]\n",
    "        chosen_neighbors = random.sample(neighbors[chosen], k = q)\n",
    "        chosen_opinions = [opinions[i] for i in chosen_neighbors]\n",
    "        opposite_opinion = chosen_opinions.count(-1*opinion)\n",
    "        if opposite_opinion >= q0 or (epsilon  > np.random.uniform() and opposite_opinion > 0):\n",
    "            opinions[chosen] *= -1\n",
    "        magnetization[step] = sum(opinions)/len_opinions\n",
    "        step += 1\n",
    "    magnetization[step:] = magnetization[step - 1]\n",
    "    return magnetization"
   ]
  },
  {
   "cell_type": "code",
   "execution_count": 642,
   "id": "7e48677f",
   "metadata": {},
   "outputs": [],
   "source": [
    "def avg_magnetization_random(N, graph_prob, MCsteps, opinion0_prob, q, q0, epsilon, max_steps = 10**6):\n",
    "    results = np.empty((MCsteps, max_steps))\n",
    "    for i in range(MCsteps):\n",
    "        g = nx.erdos_renyi_graph(N, graph_prob)\n",
    "        while min(dict(g.degree()).values()) < q:\n",
    "            print('Need more neighbors')\n",
    "            g = nx.erdos_renyi_graph(N, graph_prob)\n",
    "        results[i] = abs(sym_magnetization(g, opinion0_prob, q, q0, epsilon, max_steps))\n",
    "    return np.mean(results, axis = 0)"
   ]
  },
  {
   "cell_type": "code",
   "execution_count": 643,
   "id": "b80d5618",
   "metadata": {},
   "outputs": [],
   "source": [
    "def avg_magnetization_watts(N, watts_edges, watts_prob, MCsteps, opinion0_prob, q, q0, epsilon, max_steps = 10**6):\n",
    "    results = np.empty((MCsteps, max_steps))\n",
    "    for i in range(MCsteps):\n",
    "        g = nx.watts_strogatz_graph(N, watts_edges, watts_prob)\n",
    "        while min(dict(g.degree()).values()) < q:\n",
    "            print('Need more neighbors')\n",
    "            watts_edges += 1\n",
    "            g = nx.watts_strogatz_graph(N, watts_edges, watts_prob)\n",
    "        results[i] = abs(sym_magnetization(g, opinion0_prob, q, q0, epsilon, max_steps))\n",
    "    return np.mean(results, axis = 0)"
   ]
  },
  {
   "cell_type": "code",
   "execution_count": 644,
   "id": "5e086eca",
   "metadata": {},
   "outputs": [],
   "source": [
    "def avg_magnetization_barabasi(N, barabasi_edges, MCsteps, opinion0_prob, q, q0, epsilon, max_steps = 10**6):\n",
    "    results = np.empty((MCsteps, max_steps))\n",
    "    for i in range(MCsteps):\n",
    "        g = nx.barabasi_albert_graph(N, barabasi_edges)\n",
    "        while min(dict(g.degree()).values()) < q:\n",
    "            print('Need more neighbors')\n",
    "            barabasi_edges += 1\n",
    "            g = nx.barabasi_albert_graph(N, barabasi_edges)\n",
    "        results[i] = abs(sym_magnetization(g, opinion0_prob, q, q0, epsilon, max_steps))\n",
    "    return np.mean(results, axis = 0)"
   ]
  },
  {
   "cell_type": "code",
   "execution_count": 645,
   "id": "3b32d6b1",
   "metadata": {},
   "outputs": [],
   "source": [
    "def avg_magnetization_random_last(N, graph_prob, MCsteps, opinion0_prob, q, q0, epsilon, max_steps = 10**6):\n",
    "    results = np.empty(MCsteps)\n",
    "    for i in range(MCsteps):\n",
    "        g = nx.erdos_renyi_graph(N, graph_prob)\n",
    "        while min(dict(g.degree()).values()) < q:\n",
    "            print('Need more neighbors')\n",
    "            g = nx.erdos_renyi_graph(N, graph_prob)\n",
    "        results[i] = abs(sym_magnetization(g, opinion0_prob, q, q0, epsilon, max_steps)[-1])\n",
    "    return np.mean(results)"
   ]
  },
  {
   "cell_type": "code",
   "execution_count": 646,
   "id": "aacbc7ef",
   "metadata": {},
   "outputs": [],
   "source": [
    "def avg_magnetization_watts_last(N, watts_edges, watts_prob, MCsteps, opinion0_prob, q, q0, epsilon, max_steps = 10**6):\n",
    "    results = np.empty(MCsteps)\n",
    "    for i in range(MCsteps):\n",
    "        g = nx.watts_strogatz_graph(N, watts_edges, watts_prob)\n",
    "        while min(dict(g.degree()).values()) < q:\n",
    "            print('Need more neighbors')\n",
    "            watts_edges += 1\n",
    "            g = nx.watts_strogatz_graph(N, watts_edges, watts_prob)\n",
    "        results[i] = abs(sym_magnetization(g, opinion0_prob, q, q0, epsilon, max_steps)[-1])\n",
    "    return np.mean(results)"
   ]
  },
  {
   "cell_type": "code",
   "execution_count": 647,
   "id": "220579b0",
   "metadata": {},
   "outputs": [],
   "source": [
    "def avg_magnetization_barabasi_last(N, barabasi_edges, MCsteps, opinion0_prob, q, q0, epsilon, max_steps = 10**6):\n",
    "    results = np.empty(MCsteps)\n",
    "    for i in range(MCsteps):\n",
    "        g = nx.barabasi_albert_graph(N, barabasi_edges)\n",
    "        while min(dict(g.degree()).values()) < q:\n",
    "            print('Need more neighbors')\n",
    "            barabasi_edges += 1\n",
    "            g = nx.barabasi_albert_graph(N, barabasi_edges)\n",
    "        results[i] = abs(sym_magnetization(g, opinion0_prob, q, q0, epsilon, max_steps)[-1])\n",
    "    return np.mean(results)"
   ]
  },
  {
   "cell_type": "markdown",
   "id": "5d1e1f3e",
   "metadata": {},
   "source": [
    "## Concentration"
   ]
  },
  {
   "cell_type": "code",
   "execution_count": 116,
   "id": "85e357b2",
   "metadata": {},
   "outputs": [],
   "source": [
    "def sym_concentration(graph, opinion0_prob, q, q0, epsilon, max_steps = 10**6):\n",
    "    last_values = np.empty(10000)\n",
    "    data = extract_data(graph, opinion0_prob)\n",
    "    opinions, neighbors = data\n",
    "    len_opinions = len(opinions)\n",
    "    step = 0\n",
    "    concentration_win = np.empty(max_steps)\n",
    "    while len(list(set(opinions))) == 2 and step < max_steps:\n",
    "        chosen = np.random.randint(0, len_opinions)\n",
    "        opinion = opinions[chosen]\n",
    "        chosen_neighbors = random.sample(neighbors[chosen], k = q)\n",
    "        chosen_opinions = [opinions[i] for i in chosen_neighbors]\n",
    "        opposite_opinion = chosen_opinions.count(-1*opinion)\n",
    "        if opposite_opinion >= q0 or (epsilon  > np.random.uniform() and opposite_opinion > 0):\n",
    "            opinions[chosen] *= -1\n",
    "        step += 1\n",
    "    \n",
    "    concentration = opinions.count(-1)/len_opinions\n",
    "    concentration_win = concentration if concentration >= 0.5 else 1-concentration\n",
    "    return concentration_win"
   ]
  },
  {
   "cell_type": "code",
   "execution_count": 117,
   "id": "2544abf0",
   "metadata": {},
   "outputs": [],
   "source": [
    "def avg_concentration_random(N, graph_prob, MCsteps, opinion0_prob, q, q0, epsilon, max_steps = 10**6):\n",
    "    concentration = np.empty(MCsteps)\n",
    "    for i in range(MCsteps):\n",
    "        g = nx.erdos_renyi_graph(N, graph_prob)\n",
    "        while min(dict(g.degree()).values()) < q:\n",
    "            print('Need more neighbors')\n",
    "            g = nx.erdos_renyi_graph(N, graph_prob)\n",
    "        concentration[i] = sym_concentration(g, opinion0_prob, q, q0, epsilon, max_steps)\n",
    "    return np.mean(concentration)"
   ]
  },
  {
   "cell_type": "code",
   "execution_count": 118,
   "id": "4239dc7c",
   "metadata": {},
   "outputs": [],
   "source": [
    "epsilons = [0.1, 0.15, 0.2, 0.25, 0.3, 0.35, 0.4, 0.45, 0.5, 0.55]\n",
    "q = 4\n",
    "q0 = 2\n",
    "op1 = 0.5\n",
    "N = 150\n",
    "MCsteps = 10\n",
    "max_steps = 10**4"
   ]
  },
  {
   "cell_type": "code",
   "execution_count": 122,
   "id": "bd9b198c",
   "metadata": {},
   "outputs": [],
   "source": [
    "conc0_eps = np.zeros(len(epsilons))\n",
    "for i, e in enumerate(epsilons):\n",
    "    conc0_eps[i] = avg_concentration_random(N, 1, MCsteps, op1, q, q0, e, max_steps)"
   ]
  },
  {
   "cell_type": "code",
   "execution_count": 123,
   "id": "d06a8d27",
   "metadata": {},
   "outputs": [],
   "source": [
    "conc1_eps = 1 - conc0_eps "
   ]
  },
  {
   "cell_type": "code",
   "execution_count": 124,
   "id": "a188682c",
   "metadata": {},
   "outputs": [
    {
     "data": {
      "text/plain": [
       "[<matplotlib.lines.Line2D at 0x211b475e890>]"
      ]
     },
     "execution_count": 124,
     "metadata": {},
     "output_type": "execute_result"
    },
    {
     "data": {
      "image/png": "[encoded data removed]",
      "text/plain": [
       "<Figure size 640x480 with 1 Axes>"
      ]
     },
     "metadata": {},
     "output_type": "display_data"
    }
   ],
   "source": [
    "plt.plot(epsilons, conc0_eps)\n",
    "plt.plot(epsilons, conc1_eps)"
   ]
  },
  {
   "cell_type": "code",
   "execution_count": null,
   "id": "8d4dd9a0",
   "metadata": {},
   "outputs": [],
   "source": []
  },
  {
   "cell_type": "markdown",
   "id": "a0857412",
   "metadata": {},
   "source": [
    "# Our modification"
   ]
  },
  {
   "cell_type": "markdown",
   "id": "747a071b",
   "metadata": {},
   "source": [
    "## Time to consensus"
   ]
  },
  {
   "cell_type": "code",
   "execution_count": 648,
   "id": "124d6171",
   "metadata": {},
   "outputs": [],
   "source": [
    "def extract_data_common(graph, opinion0_prob):\n",
    "    G = nx.number_of_nodes(graph)\n",
    "    nodes = list(graph.nodes())\n",
    "    opinion0_count = int(opinion0_prob*G)\n",
    "    opinions = [-1]*opinion0_count + [1]*(G - opinion0_count)\n",
    "    random.shuffle(opinions)\n",
    "    neighbors = [0]*G\n",
    "    common = np.zeros((G, G))\n",
    "    for i in range(G):\n",
    "        neighbors[i] = list(graph.neighbors(nodes[i]))\n",
    "    for i in range(G):\n",
    "        for j in range(G):\n",
    "            common[i][j] = len(set(neighbors[i]) & set(neighbors[j]))\n",
    "    return opinions, neighbors, common"
   ]
  },
  {
   "cell_type": "code",
   "execution_count": 649,
   "id": "a7f35910",
   "metadata": {},
   "outputs": [],
   "source": [
    "def sym_to_consensus_common(graph, opinion0_prob, q, q0, epsilon, max_steps = 10**6):\n",
    "    last_values = np.empty(10000)\n",
    "    opinions, neighbors, common = extract_data_common(graph, opinion0_prob)\n",
    "    len_opinions = len(opinions)\n",
    "    step = 0\n",
    "    while len(list(set(opinions))) == 2 and step < max_steps:\n",
    "        chosen = np.random.randint(0, len_opinions)\n",
    "        opinion = opinions[chosen]\n",
    "        chosen_neighbors = random.sample(neighbors[chosen], k = q)\n",
    "        chosen_opinions = np.array([opinions[i] for i in chosen_neighbors])\n",
    "        chosen_common = [common[chosen, i] for i in chosen_neighbors]\n",
    "        opposite_inds = np.where(chosen_opinions == -1*opinion)[0]\n",
    "        opposite_opinion = np.sum([chosen_common[i] for i in opposite_inds]) / np.sum(chosen_common) \\\n",
    "            if np.sum(chosen_common) > 0 else 0\n",
    "        \n",
    "        if opposite_opinion > q0 or (epsilon > np.random.uniform() and opposite_opinion > 0):\n",
    "            opinions[chosen] *= -1\n",
    "        step += 1\n",
    "        \n",
    "    return step"
   ]
  },
  {
   "cell_type": "code",
   "execution_count": 650,
   "id": "9dd44161",
   "metadata": {},
   "outputs": [],
   "source": [
    "def monte_carlo_sym_random_common(n, graph_prob, MC_steps, opinion0_prob, q, q0, epsilon, max_steps):\n",
    "    mean_step = 0\n",
    "    steps = 0\n",
    "    counter = 0\n",
    "    for i in range(MC_steps):\n",
    "        g = nx.erdos_renyi_graph(n, graph_prob)\n",
    "        while min(dict(g.degree()).values()) < q:\n",
    "            print('Need more neighbors')\n",
    "            g = nx.erdos_renyi_graph(n, graph_prob)\n",
    "        steps = sym_to_consensus_common(g, opinion0_prob, q, q0, epsilon, max_steps)\n",
    "        mean_step += steps\n",
    "        if steps == max_steps:\n",
    "            counter += 1\n",
    "            if counter == 3:\n",
    "                return 0\n",
    "    return mean_step / MC_steps"
   ]
  },
  {
   "cell_type": "code",
   "execution_count": 651,
   "id": "795521bc",
   "metadata": {},
   "outputs": [],
   "source": [
    "def monte_carlo_sym_barabasi_common(n, barabasi_edges, MC_steps, opinion0_prob, q, q0, epsilon, max_steps):\n",
    "    mean_step = 0\n",
    "    steps = 0\n",
    "    counter = 0\n",
    "    for i in range(MC_steps):\n",
    "        g = nx.barabasi_albert_graph(n, barabasi_edges)\n",
    "        while min(dict(g.degree()).values()) < q:\n",
    "            print('Need more neighbors')\n",
    "            barabasi_edges += 1\n",
    "            g = nx.barabasi_albert_graph(N, barabasi_edges)\n",
    "        steps = sym_to_consensus_common(g, opinion0_prob, q, q0, epsilon, max_steps)\n",
    "        mean_step += steps\n",
    "        if steps == max_steps:\n",
    "            counter += 1\n",
    "            if counter == 3:\n",
    "                print((0, i))\n",
    "                return 0\n",
    "    return mean_step / MC_steps"
   ]
  },
  {
   "cell_type": "code",
   "execution_count": 652,
   "id": "fa27c5bb",
   "metadata": {},
   "outputs": [],
   "source": [
    "def monte_carlo_sym_watts_common(n, watts_edges, watts_prob, MC_steps, opinion0_prob, q, q0, epsilon, max_steps):\n",
    "    mean_step = 0\n",
    "    steps = 0\n",
    "    counter = 0\n",
    "    for i in range(MC_steps):\n",
    "        g = nx.watts_strogatz_graph(n, watts_edges, watts_prob)\n",
    "        while min(dict(g.degree()).values()) < q:\n",
    "            print('Need more neighbors')\n",
    "            watts_edges += 1\n",
    "            g = nx.watts_strogatz_graph(n, watts_edges, watts_prob)\n",
    "        steps += sym_to_consensus_common(g, opinion0_prob, q, q0, epsilon, max_steps)\n",
    "        mean_step += steps\n",
    "        if steps == max_steps:\n",
    "            counter += 1\n",
    "            if counter == 3:\n",
    "                return 0\n",
    "    return mean_step / MC_steps"
   ]
  },
  {
   "cell_type": "code",
   "execution_count": 653,
   "id": "04d3053a",
   "metadata": {},
   "outputs": [],
   "source": [
    "def consensus_time_random_common(ns, graph_prob, epsilon, MC_steps, opinion0_prob, q, q0, max_steps = 10**6):\n",
    "    mean_times = np.empty(len(ns))\n",
    "    for n in range(len(ns)):\n",
    "        print(ns[n])\n",
    "        mean_times[n] = monte_carlo_sym_random_common(ns[n], graph_prob, MC_steps, opinion0_prob, q, q0, epsilon, max_steps)\n",
    "    return mean_times"
   ]
  },
  {
   "cell_type": "code",
   "execution_count": 654,
   "id": "ec175de7",
   "metadata": {},
   "outputs": [],
   "source": [
    "def consensus_time_barabasi_common(ns, barabasi_edges, epsilon, MC_steps, opinion0_prob, q, q0, max_steps = 10**6):\n",
    "    mean_times = np.empty(len(ns))\n",
    "    for n in range(len(ns)):\n",
    "        print(ns[n])\n",
    "        mean_times[n] = monte_carlo_sym_barabasi_common(ns[n], barabasi_edges, MC_steps, opinion0_prob, q, q0, epsilon, max_steps)\n",
    "    return mean_times"
   ]
  },
  {
   "cell_type": "code",
   "execution_count": 655,
   "id": "4458c1bf",
   "metadata": {},
   "outputs": [],
   "source": [
    "def consensus_time_watts_common(ns, watts_edges, watts_prob, epsilon, MC_steps, opinion0_prob, q, q0, max_steps = 10**6):\n",
    "    mean_times = np.empty(len(ns))\n",
    "    for n in range(len(ns)):\n",
    "        print(ns[n])\n",
    "        mean_times[n] = monte_carlo_sym_watts_common(ns[n], watts_edges, watts_prob, MC_steps, opinion0_prob, q, q0, epsilon, max_steps)\n",
    "    return mean_times"
   ]
  },
  {
   "cell_type": "markdown",
   "id": "0e6103b6",
   "metadata": {},
   "source": [
    "## Magnetization"
   ]
  },
  {
   "cell_type": "code",
   "execution_count": 656,
   "id": "5bca8001",
   "metadata": {},
   "outputs": [],
   "source": [
    "def sym_magnetization_common(graph, opinion0_prob, q, q0, epsilon, max_steps = 10**6):\n",
    "    last_values = np.empty(10000)\n",
    "    opinions, neighbors, common = extract_data_common(graph, opinion0_prob)\n",
    "    len_opinions = len(opinions)\n",
    "    step = 0\n",
    "    magnetization = np.empty(max_steps)\n",
    "    while len(list(set(opinions))) == 2 and step < max_steps:\n",
    "        chosen = np.random.randint(0, len_opinions)\n",
    "        opinion = opinions[chosen]\n",
    "        chosen_neighbors = random.sample(neighbors[chosen], k = q)\n",
    "        chosen_opinions = np.array([opinions[i] for i in chosen_neighbors])\n",
    "        chosen_common = [common[chosen, i] for i in chosen_neighbors]\n",
    "        opposite_inds = np.where(chosen_opinions == -1*opinion)[0]\n",
    "        sum_chosen = np.sum(chosen_common)\n",
    "        opposite_opinion = np.sum([chosen_common[i] for i in opposite_inds]) / sum_chosen \\\n",
    "            if sum_chosen > 0 else 0\n",
    "        \n",
    "        if opposite_opinion > q0 or (epsilon > np.random.uniform() and opposite_opinion > 0):\n",
    "            opinions[chosen] *= -1\n",
    "        magnetization[step] = sum(opinions)/len_opinions\n",
    "        step += 1\n",
    "    magnetization[step:] = magnetization[step - 1]\n",
    "    return magnetization "
   ]
  },
  {
   "cell_type": "code",
   "execution_count": 657,
   "id": "540df02b",
   "metadata": {},
   "outputs": [],
   "source": [
    "def avg_magnetization_common_random(N, graph_prob, MCsteps, opinion0_prob, q, q0, epsilon, max_steps = 10**6):\n",
    "    results = np.empty((MCsteps, max_steps))\n",
    "    for i in range(MCsteps):\n",
    "        g = nx.erdos_renyi_graph(N, graph_prob)\n",
    "        while min(dict(g.degree()).values()) < q:\n",
    "            print('Need more neighbors')\n",
    "            g = nx.erdos_renyi_graph(N, graph_prob)\n",
    "        results[i] = abs(sym_magnetization_common(g, opinion0_prob, q, q0, epsilon, max_steps))\n",
    "    return np.mean(results, axis = 0)"
   ]
  },
  {
   "cell_type": "code",
   "execution_count": 658,
   "id": "61d8f770",
   "metadata": {},
   "outputs": [],
   "source": [
    "def avg_magnetization_common_watts(N, watts_edges, watts_prob, MCsteps, opinion0_prob, q, q0, epsilon, max_steps = 10**6):\n",
    "    results = np.empty((MCsteps, max_steps))\n",
    "    for i in range(MCsteps):\n",
    "        g = nx.watts_strogatz_graph(N, watts_edges, watts_prob)\n",
    "        while min(dict(g.degree()).values()) < q:\n",
    "            print('Need more neighbors')\n",
    "            watts_edges += 1\n",
    "            g = nx.watts_strogatz_graph(N, watts_edges, watts_prob)\n",
    "        results[i] = abs(sym_magnetization_common(g, opinion0_prob, q, q0, epsilon, max_steps))\n",
    "    return np.mean(results, axis = 0)"
   ]
  },
  {
   "cell_type": "code",
   "execution_count": 659,
   "id": "577504d7",
   "metadata": {},
   "outputs": [],
   "source": [
    "def avg_magnetization_common_barabasi(N, barabasi_edges, MCsteps, opinion0_prob, q, q0, epsilon, max_steps = 10**6):\n",
    "    results = np.empty((MCsteps, max_steps))\n",
    "    for i in range(MCsteps):\n",
    "        g = nx.barabasi_albert_graph(N, barabasi_edges)\n",
    "        while min(dict(g.degree()).values()) < q:\n",
    "            print('Need more neighbors')\n",
    "            barabasi_edges += 1\n",
    "            g = nx.barabasi_albert_graph(N, barabasi_edges)\n",
    "        results[i] = abs(sym_magnetization_common(g, opinion0_prob, q, q0, epsilon, max_steps))\n",
    "    return np.mean(results, axis = 0)"
   ]
  },
  {
   "cell_type": "code",
   "execution_count": 660,
   "id": "7c531b49",
   "metadata": {},
   "outputs": [],
   "source": [
    "def avg_magnetization_common_random_last(N, graph_prob, MCsteps, opinion0_prob, q, q0, epsilon, max_steps = 10**6):\n",
    "    results = np.empty(MCsteps)\n",
    "    for i in range(MCsteps):\n",
    "        g = nx.erdos_renyi_graph(N, graph_prob)\n",
    "        while min(dict(g.degree()).values()) < q:\n",
    "            print('Need more neighbors')\n",
    "            g = nx.erdos_renyi_graph(N, graph_prob)\n",
    "        results[i] = abs(sym_magnetization_common(g, opinion0_prob, q, q0, epsilon, max_steps)[-1])\n",
    "    return np.mean(results)"
   ]
  },
  {
   "cell_type": "code",
   "execution_count": 661,
   "id": "fb64c255",
   "metadata": {},
   "outputs": [],
   "source": [
    "def avg_magnetization_common_watts_last(N, watts_edges, watts_prob, MCsteps, opinion0_prob, q, q0, epsilon, max_steps = 10**6):\n",
    "    results = np.empty(MCsteps)\n",
    "    for i in range(MCsteps):\n",
    "        g = nx.watts_strogatz_graph(N, watts_edges, watts_prob)\n",
    "        while min(dict(g.degree()).values()) < q:\n",
    "            print('Need more neighbors')\n",
    "            watts_edges += 1\n",
    "            g = nx.watts_strogatz_graph(N, watts_edges, watts_prob)\n",
    "        results[i] = abs(sym_magnetization_common(g, opinion0_prob, q, q0, epsilon, max_steps)[-1])\n",
    "    return np.mean(results)"
   ]
  },
  {
   "cell_type": "code",
   "execution_count": 662,
   "id": "11e97ccc",
   "metadata": {},
   "outputs": [],
   "source": [
    "def avg_magnetization_common_barabasi_last(N, barabasi_edges, MCsteps, opinion0_prob, q, q0, epsilon, max_steps = 10**6):\n",
    "    results = np.empty(MCsteps)\n",
    "    for i in range(MCsteps):\n",
    "        g = nx.barabasi_albert_graph(N, barabasi_edges)\n",
    "        while min(dict(g.degree()).values()) < q:\n",
    "            print('Need more neighbors')\n",
    "            barabasi_edges += 1\n",
    "            g = nx.barabasi_albert_graph(N, barabasi_edges)\n",
    "        results[i] = abs(sym_magnetization_common(g, opinion0_prob, q, q0, epsilon, max_steps)[-1])\n",
    "    return np.mean(results)"
   ]
  },
  {
   "cell_type": "code",
   "execution_count": null,
   "id": "a6099116",
   "metadata": {
    "scrolled": true
   },
   "outputs": [],
   "source": [
    "mag_barabasi = avg_magnetization_barabasi(N = 100, barabasi_edges = 6, MCsteps = 100, opinion0_prob = 0.5, q = 6, q0 = 4, epsilon = 0.1, max_steps = 10**6)"
   ]
  },
  {
   "cell_type": "code",
   "execution_count": null,
   "id": "eb2f4320",
   "metadata": {
    "scrolled": true
   },
   "outputs": [],
   "source": [
    "mag_barabasi_common = avg_magnetization_common_barabasi(N = 100, barabasi_edges = 6, MCsteps = 100, opinion0_prob = 0.5, q = 6, q0 = 2/3, epsilon = 0.1, max_steps = 10**6)"
   ]
  },
  {
   "cell_type": "code",
   "execution_count": null,
   "id": "83a94b4b",
   "metadata": {},
   "outputs": [],
   "source": [
    "mag_watts = avg_magnetization_watts(N = 100, watts_edges = 11, watts_prob = 0.5, MCsteps = 100, opinion0_prob = 0.5, q = 6, q0 = 4, epsilon = 0.1, max_steps = 10**6)"
   ]
  },
  {
   "cell_type": "code",
   "execution_count": null,
   "id": "f160270b",
   "metadata": {},
   "outputs": [],
   "source": [
    "mag_watts_barabasi = avg_magnetization_common_watts(N = 100, watts_edges = 11, watts_prob = 0.5, MCsteps = 100, opinion0_prob = 0.5, q = 6, q0 = 2/3, epsilon = 0.1, max_steps = 10**6)"
   ]
  },
  {
   "cell_type": "code",
   "execution_count": null,
   "id": "7a8d075c",
   "metadata": {},
   "outputs": [],
   "source": [
    "mag_random = avg_magnetization_random(N = 100, graph_prob = 0.5, MCsteps = 100, opinion0_prob = 0.5, q = 6, q0 = 4, epsilon = 0.1, max_steps = 10**6)"
   ]
  },
  {
   "cell_type": "code",
   "execution_count": null,
   "id": "eda72b96",
   "metadata": {},
   "outputs": [],
   "source": [
    "mag_random_common = avg_magnetization_common_random(N = 100, graph_prob = 0.5, MCsteps = 100, opinion0_prob = 0.5, q = 6, q0 = 2/3, epsilon = 0.1, max_steps = 10**6)"
   ]
  },
  {
   "cell_type": "code",
   "execution_count": null,
   "id": "5ea23017",
   "metadata": {},
   "outputs": [],
   "source": [
    "plt.plot(mag_random[1:1000])\n",
    "plt.plot(mag_random_common[1:1000])"
   ]
  },
  {
   "cell_type": "code",
   "execution_count": null,
   "id": "c238a8ce",
   "metadata": {},
   "outputs": [],
   "source": [
    "plt.plot(mag_watts[1:1000])\n",
    "plt.plot(mag_watts_common[1:1000])"
   ]
  },
  {
   "cell_type": "code",
   "execution_count": null,
   "id": "7be8c37f",
   "metadata": {},
   "outputs": [],
   "source": [
    "plt.plot(mag_barabasi[1:1000])\n",
    "plt.plot(mag_barabasi_common[1:1000])"
   ]
  },
  {
   "cell_type": "code",
   "execution_count": null,
   "id": "ab003d7d",
   "metadata": {},
   "outputs": [],
   "source": []
  },
  {
   "cell_type": "code",
   "execution_count": 72,
   "id": "323a271b",
   "metadata": {},
   "outputs": [],
   "source": [
    "ns = [100, 250, 500, 1000]\n",
    "epsilons = np.arange(0.1, 0.3, 0.1)\n",
    "q = 6\n",
    "q0 = 2/3\n",
    "MC_steps = 100\n",
    "opinion0_prob = 0.5\n",
    "barabasi_edges = 8"
   ]
  },
  {
   "cell_type": "code",
   "execution_count": 73,
   "id": "c5200b37",
   "metadata": {
    "collapsed": true
   },
   "outputs": [
    {
     "name": "stdout",
     "output_type": "stream",
     "text": [
      "0.1\n",
      "100\n",
      "(0, 16)\n",
      "250\n",
      "(0, 5)\n",
      "500\n"
     ]
    },
    {
     "ename": "KeyboardInterrupt",
     "evalue": "",
     "output_type": "error",
     "traceback": [
      "\u001b[1;31m---------------------------------------------------------------------------\u001b[0m",
      "\u001b[1;31mKeyboardInterrupt\u001b[0m                         Traceback (most recent call last)",
      "\u001b[1;32m<timed exec>\u001b[0m in \u001b[0;36m<module>\u001b[1;34m\u001b[0m\n",
      "\u001b[1;32m<ipython-input-69-41ad8d29cc87>\u001b[0m in \u001b[0;36mconsensus_time_barabasi_common\u001b[1;34m(ns, barabasi_edges, epsilon, MC_steps, opinion0_prob, q, q0, max_steps)\u001b[0m\n\u001b[0;32m      3\u001b[0m     \u001b[1;32mfor\u001b[0m \u001b[0mn\u001b[0m \u001b[1;32min\u001b[0m \u001b[0mrange\u001b[0m\u001b[1;33m(\u001b[0m\u001b[0mlen\u001b[0m\u001b[1;33m(\u001b[0m\u001b[0mns\u001b[0m\u001b[1;33m)\u001b[0m\u001b[1;33m)\u001b[0m\u001b[1;33m:\u001b[0m\u001b[1;33m\u001b[0m\u001b[1;33m\u001b[0m\u001b[0m\n\u001b[0;32m      4\u001b[0m         \u001b[0mprint\u001b[0m\u001b[1;33m(\u001b[0m\u001b[0mns\u001b[0m\u001b[1;33m[\u001b[0m\u001b[0mn\u001b[0m\u001b[1;33m]\u001b[0m\u001b[1;33m)\u001b[0m\u001b[1;33m\u001b[0m\u001b[1;33m\u001b[0m\u001b[0m\n\u001b[1;32m----> 5\u001b[1;33m         \u001b[0mmean_times\u001b[0m\u001b[1;33m[\u001b[0m\u001b[0mn\u001b[0m\u001b[1;33m]\u001b[0m \u001b[1;33m=\u001b[0m \u001b[0mmonte_carlo_sym_barabasi_common\u001b[0m\u001b[1;33m(\u001b[0m\u001b[0mns\u001b[0m\u001b[1;33m[\u001b[0m\u001b[0mn\u001b[0m\u001b[1;33m]\u001b[0m\u001b[1;33m,\u001b[0m \u001b[0mbarabasi_edges\u001b[0m\u001b[1;33m,\u001b[0m \u001b[0mMC_steps\u001b[0m\u001b[1;33m,\u001b[0m \u001b[0mopinion0_prob\u001b[0m\u001b[1;33m,\u001b[0m \u001b[0mq\u001b[0m\u001b[1;33m,\u001b[0m \u001b[0mq0\u001b[0m\u001b[1;33m,\u001b[0m \u001b[0mepsilon\u001b[0m\u001b[1;33m,\u001b[0m \u001b[0mmax_steps\u001b[0m\u001b[1;33m)\u001b[0m\u001b[1;33m\u001b[0m\u001b[1;33m\u001b[0m\u001b[0m\n\u001b[0m\u001b[0;32m      6\u001b[0m     \u001b[1;32mreturn\u001b[0m \u001b[0mmean_times\u001b[0m\u001b[1;33m\u001b[0m\u001b[1;33m\u001b[0m\u001b[0m\n",
      "\u001b[1;32m<ipython-input-65-ca99252d621f>\u001b[0m in \u001b[0;36mmonte_carlo_sym_barabasi_common\u001b[1;34m(n, barabasi_edges, MC_steps, opinion0_prob, q, q0, epsilon, max_steps)\u001b[0m\n\u001b[0;32m      7\u001b[0m     \u001b[1;32mfor\u001b[0m \u001b[0mi\u001b[0m \u001b[1;32min\u001b[0m \u001b[0mrange\u001b[0m\u001b[1;33m(\u001b[0m\u001b[0mMC_steps\u001b[0m\u001b[1;33m)\u001b[0m\u001b[1;33m:\u001b[0m\u001b[1;33m\u001b[0m\u001b[1;33m\u001b[0m\u001b[0m\n\u001b[0;32m      8\u001b[0m         \u001b[0mg\u001b[0m \u001b[1;33m=\u001b[0m \u001b[0mnx\u001b[0m\u001b[1;33m.\u001b[0m\u001b[0mbarabasi_albert_graph\u001b[0m\u001b[1;33m(\u001b[0m\u001b[0mn\u001b[0m\u001b[1;33m,\u001b[0m \u001b[0mbarabasi_edges\u001b[0m\u001b[1;33m)\u001b[0m\u001b[1;33m\u001b[0m\u001b[1;33m\u001b[0m\u001b[0m\n\u001b[1;32m----> 9\u001b[1;33m         \u001b[0msteps\u001b[0m \u001b[1;33m=\u001b[0m \u001b[0msym_to_consensus_common\u001b[0m\u001b[1;33m(\u001b[0m\u001b[0mg\u001b[0m\u001b[1;33m,\u001b[0m \u001b[0mopinion0_prob\u001b[0m\u001b[1;33m,\u001b[0m \u001b[0mq\u001b[0m\u001b[1;33m,\u001b[0m \u001b[0mq0\u001b[0m\u001b[1;33m,\u001b[0m \u001b[0mepsilon\u001b[0m\u001b[1;33m,\u001b[0m \u001b[0mmax_steps\u001b[0m\u001b[1;33m)\u001b[0m\u001b[1;33m\u001b[0m\u001b[1;33m\u001b[0m\u001b[0m\n\u001b[0m\u001b[0;32m     10\u001b[0m         \u001b[0mmean_step\u001b[0m \u001b[1;33m+=\u001b[0m \u001b[0msteps\u001b[0m\u001b[1;33m\u001b[0m\u001b[1;33m\u001b[0m\u001b[0m\n\u001b[0;32m     11\u001b[0m         \u001b[1;32mif\u001b[0m \u001b[0msteps\u001b[0m \u001b[1;33m==\u001b[0m \u001b[0mmax_steps\u001b[0m\u001b[1;33m:\u001b[0m\u001b[1;33m\u001b[0m\u001b[1;33m\u001b[0m\u001b[0m\n",
      "\u001b[1;32m<ipython-input-61-cac4647e1f17>\u001b[0m in \u001b[0;36msym_to_consensus_common\u001b[1;34m(graph, opinion0_prob, q, q0, epsilon, max_steps)\u001b[0m\n\u001b[0;32m      5\u001b[0m     \u001b[0mlen_opinions\u001b[0m \u001b[1;33m=\u001b[0m \u001b[0mlen\u001b[0m\u001b[1;33m(\u001b[0m\u001b[0mopinions\u001b[0m\u001b[1;33m)\u001b[0m\u001b[1;33m\u001b[0m\u001b[1;33m\u001b[0m\u001b[0m\n\u001b[0;32m      6\u001b[0m     \u001b[0mstep\u001b[0m \u001b[1;33m=\u001b[0m \u001b[1;36m0\u001b[0m\u001b[1;33m\u001b[0m\u001b[1;33m\u001b[0m\u001b[0m\n\u001b[1;32m----> 7\u001b[1;33m     \u001b[1;32mwhile\u001b[0m \u001b[0mlen\u001b[0m\u001b[1;33m(\u001b[0m\u001b[0mlist\u001b[0m\u001b[1;33m(\u001b[0m\u001b[0mset\u001b[0m\u001b[1;33m(\u001b[0m\u001b[0mopinions\u001b[0m\u001b[1;33m)\u001b[0m\u001b[1;33m)\u001b[0m\u001b[1;33m)\u001b[0m \u001b[1;33m==\u001b[0m \u001b[1;36m2\u001b[0m \u001b[1;32mand\u001b[0m \u001b[0mstep\u001b[0m \u001b[1;33m<\u001b[0m \u001b[0mmax_steps\u001b[0m\u001b[1;33m:\u001b[0m\u001b[1;33m\u001b[0m\u001b[1;33m\u001b[0m\u001b[0m\n\u001b[0m\u001b[0;32m      8\u001b[0m         \u001b[0mchosen\u001b[0m \u001b[1;33m=\u001b[0m \u001b[0mnp\u001b[0m\u001b[1;33m.\u001b[0m\u001b[0mrandom\u001b[0m\u001b[1;33m.\u001b[0m\u001b[0mrandint\u001b[0m\u001b[1;33m(\u001b[0m\u001b[1;36m0\u001b[0m\u001b[1;33m,\u001b[0m \u001b[0mlen_opinions\u001b[0m\u001b[1;33m)\u001b[0m\u001b[1;33m\u001b[0m\u001b[1;33m\u001b[0m\u001b[0m\n\u001b[0;32m      9\u001b[0m         \u001b[0mopinion\u001b[0m \u001b[1;33m=\u001b[0m \u001b[0mopinions\u001b[0m\u001b[1;33m[\u001b[0m\u001b[0mchosen\u001b[0m\u001b[1;33m]\u001b[0m\u001b[1;33m\u001b[0m\u001b[1;33m\u001b[0m\u001b[0m\n",
      "\u001b[1;31mKeyboardInterrupt\u001b[0m: "
     ]
    }
   ],
   "source": [
    "%%time\n",
    "l = []\n",
    "for e in epsilons:\n",
    "    print(e)\n",
    "    l.append(consensus_time_barabasi_common(ns, barabasi_edges, e, MC_steps, opinion0_prob, q, q0, max_steps = 10**6))"
   ]
  },
  {
   "cell_type": "code",
   "execution_count": null,
   "id": "ad27ba9e",
   "metadata": {},
   "outputs": [],
   "source": []
  },
  {
   "cell_type": "code",
   "execution_count": 78,
   "id": "d83b1209",
   "metadata": {},
   "outputs": [],
   "source": [
    "barabasz1 = avg_magnetization_barabasi(100, 8, 100, 0.5, 6, 4, 0.1, max_steps = 10**6)"
   ]
  },
  {
   "cell_type": "code",
   "execution_count": null,
   "id": "f4c60775",
   "metadata": {},
   "outputs": [],
   "source": [
    "barabasz2 = avg_magnetization_barabasi(100, 8, 100, 0.5, 6, 4, 0.1, max_steps = 10**6)"
   ]
  }
 ],
 "metadata": {
  "kernelspec": {
   "display_name": "Python 3 (ipykernel)",
   "language": "python",
   "name": "python3"
  },
  "language_info": {
   "codemirror_mode": {
    "name": "ipython",
    "version": 3
   },
   "file_extension": ".py",
   "mimetype": "text/x-python",
   "name": "python",
   "nbconvert_exporter": "python",
   "pygments_lexer": "ipython3",
   "version": "3.11.3"
  }
 },
 "nbformat": 4,
 "nbformat_minor": 5
}
