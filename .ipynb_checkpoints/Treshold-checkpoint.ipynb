{
 "cells": [
  {
   "cell_type": "code",
   "execution_count": 117,
   "id": "e9dfc074",
   "metadata": {},
   "outputs": [],
   "source": [
    "import numpy as np\n",
    "import random\n",
    "import scipy.stats as ss\n",
    "import matplotlib.pyplot as plt\n",
    "import networkx as nx\n",
    "import pandas as pd\n",
    "from matplotlib import style"
   ]
  },
  {
   "cell_type": "code",
   "execution_count": 118,
   "id": "e29f4842",
   "metadata": {},
   "outputs": [],
   "source": [
    "plt.rcParams['figure.figsize'] = (10, 6)\n",
    "plt.rcParams['figure.dpi'] = 150\n",
    "style.use('seaborn')"
   ]
  },
  {
   "cell_type": "markdown",
   "id": "b182a19a",
   "metadata": {},
   "source": [
    "# Basic threshold model"
   ]
  },
  {
   "cell_type": "markdown",
   "id": "7ceb4924",
   "metadata": {},
   "source": [
    "## Time to consensus"
   ]
  },
  {
   "cell_type": "code",
   "execution_count": 119,
   "id": "844918ae",
   "metadata": {},
   "outputs": [],
   "source": [
    "def extract_data(graph, opinion0_prob):\n",
    "    G = nx.number_of_nodes(graph)\n",
    "    nodes = list(graph.nodes())\n",
    "    opinion0_count = int(opinion0_prob*G)\n",
    "    opinions = [-1]*opinion0_count + [1]*(G - opinion0_count)\n",
    "    random.shuffle(opinions)\n",
    "    neighbors = [0]*G\n",
    "    for i in range(G):\n",
    "        neighbors[i] = list(graph.neighbors(nodes[i]))\n",
    "    return np.array(opinions), neighbors"
   ]
  },
  {
   "cell_type": "code",
   "execution_count": 120,
   "id": "ce15a8f7",
   "metadata": {},
   "outputs": [],
   "source": [
    "def sym_to_consensus(graph, opinion0_prob, q, q0, epsilon, max_steps = 10**4):\n",
    "    last_values = np.zeros(10000)\n",
    "    data = extract_data(graph, opinion0_prob)\n",
    "    opinions, neighbors = data\n",
    "    len_opinions = len(opinions)\n",
    "    \n",
    "    step = 0\n",
    "    while len(list(set(opinions))) == 2 and step < max_steps:\n",
    "        nodes = np.random.randint(0, len_opinions, size=len_opinions)\n",
    "        epsilons = np.random.uniform(size=len_opinions) < epsilon\n",
    "        \n",
    "        for i, node in enumerate(nodes):\n",
    "            opinion = opinions[node]\n",
    "            chosen_neighbors = random.sample(neighbors[node], k = q)\n",
    "            chosen_opinions = opinions[chosen_neighbors]\n",
    "            opposite_opinion = np.count_nonzero(chosen_opinions==-1*opinion)\n",
    "\n",
    "            if opposite_opinion >= q0: \n",
    "                opinions[node] *= -1\n",
    "            elif (epsilons[i] and opposite_opinion > 0):\n",
    "                opinions[node] *= -1\n",
    "                \n",
    "        step += 1\n",
    "        \n",
    "    return step"
   ]
  },
  {
   "cell_type": "code",
   "execution_count": 121,
   "id": "5ae74e5b",
   "metadata": {},
   "outputs": [],
   "source": [
    "def monte_carlo_sym_random(n, graph_prob, MC_steps, opinion0_prob, q, q0, epsilon, max_steps):\n",
    "    mean_step = 0\n",
    "    steps = 0\n",
    "    counter = 0\n",
    "    for i in range(MC_steps):\n",
    "        g = nx.erdos_renyi_graph(n, graph_prob)\n",
    "        while min(dict(g.degree()).values()) < q:\n",
    "            g = nx.erdos_renyi_graph(n, graph_prob)\n",
    "        steps = sym_to_consensus(g, opinion0_prob, q, q0, epsilon, max_steps)\n",
    "        mean_step += steps\n",
    "        if steps == max_steps:\n",
    "            counter += 1\n",
    "            if counter == 3:\n",
    "                return 0\n",
    "    return mean_step / MC_steps"
   ]
  },
  {
   "cell_type": "code",
   "execution_count": 122,
   "id": "bac2e5d4",
   "metadata": {},
   "outputs": [],
   "source": [
    "def monte_carlo_sym_watts(n, watts_edges, watts_prob, MC_steps, opinion0_prob, q, q0, epsilon, max_steps):\n",
    "    mean_step = 0\n",
    "    steps = 0\n",
    "    counter = 0\n",
    "    for i in range(MC_steps):\n",
    "        g = nx.watts_strogatz_graph(n, watts_edges, watts_prob)\n",
    "        while min(dict(g.degree()).values()) < q:\n",
    "            g = nx.watts_strogatz_graph(n, watts_edges, watts_prob)\n",
    "        steps += sym_to_consensus(g, opinion0_prob, q, q0, epsilon, max_steps)\n",
    "        mean_step += steps\n",
    "        if steps == max_steps:\n",
    "            counter += 1\n",
    "            if counter == 3:\n",
    "                return 0\n",
    "    return mean_step / MC_steps"
   ]
  },
  {
   "cell_type": "code",
   "execution_count": 123,
   "id": "c87f8ec0",
   "metadata": {},
   "outputs": [],
   "source": [
    "def monte_carlo_sym_barabasi(n, barabasi_edges, MC_steps, opinion0_prob, q, q0, epsilon, max_steps):\n",
    "    mean_step = 0\n",
    "    steps = 0\n",
    "    counter = 0\n",
    "    for i in range(MC_steps):\n",
    "        g = nx.barabasi_albert_graph(n, barabasi_edges)\n",
    "        while min(dict(g.degree()).values()) < q:\n",
    "            g = nx.barabasi_albert_graph(N, barabasi_edges)\n",
    "        steps = sym_to_consensus(g, opinion0_prob, q, q0, epsilon, max_steps)\n",
    "        mean_step += steps\n",
    "        if steps == max_steps:\n",
    "            counter += 1\n",
    "            if counter == 3:\n",
    "                print((0, i))\n",
    "                return 0\n",
    "    return mean_step / MC_steps"
   ]
  },
  {
   "cell_type": "code",
   "execution_count": 124,
   "id": "9ae3191a",
   "metadata": {
    "scrolled": false
   },
   "outputs": [],
   "source": [
    "def consensus_time_random(ns, graph_prob, epsilon, MC_steps, opinion0_prob, q, q0, max_steps = 10**4):\n",
    "    mean_times = np.zeros(len(ns))\n",
    "    for n in range(len(ns)):\n",
    "        mean_times[n] = monte_carlo_sym_random(ns[n], graph_prob, MC_steps, opinion0_prob, q, q0, epsilon, max_steps)\n",
    "        if mean_times[n] == 0:\n",
    "            break\n",
    "    return mean_times"
   ]
  },
  {
   "cell_type": "code",
   "execution_count": 125,
   "id": "28860d09",
   "metadata": {},
   "outputs": [],
   "source": [
    "def consensus_time_barabasi(ns, barabasi_edges, epsilon, MC_steps, opinion0_prob, q, q0, max_steps = 10**4):\n",
    "    mean_times = np.zeros(len(ns))\n",
    "    for n in range(len(ns)):\n",
    "        mean_times[n] = monte_carlo_sym_barabasi(ns[n], barabasi_edges, MC_steps, opinion0_prob, q, q0, epsilon, max_steps)\n",
    "        if mean_times[n] == 0:\n",
    "            break\n",
    "    return mean_times"
   ]
  },
  {
   "cell_type": "code",
   "execution_count": 126,
   "id": "e8a5fd92",
   "metadata": {},
   "outputs": [],
   "source": [
    "def consensus_time_watts(ns, watts_edges, watts_prob, epsilon, MC_steps, opinion0_prob, q, q0, max_steps = 10**4):\n",
    "    mean_times = np.zeros(len(ns))\n",
    "    for n in range(len(ns)):\n",
    "        mean_times[n] = monte_carlo_sym_watts(ns[n], watts_edges, watts_prob, MC_steps, opinion0_prob, q, q0, epsilon, max_steps)\n",
    "        if mean_times[n] == 0:\n",
    "            break\n",
    "    return mean_times"
   ]
  },
  {
   "cell_type": "markdown",
   "id": "5c3852ea",
   "metadata": {},
   "source": [
    "### Barabasi"
   ]
  },
  {
   "cell_type": "code",
   "execution_count": 98,
   "id": "ce19304d",
   "metadata": {},
   "outputs": [],
   "source": [
    "ns = np.arange(100, 2000, 200)\n",
    "epsilons = np.arange(0.1, 0.5, 0.05)\n",
    "q = 6\n",
    "q0 = 4\n",
    "MC_steps = 100\n",
    "opinion0_prob = 0.5\n",
    "barabasi_edges = 8"
   ]
  },
  {
   "cell_type": "code",
   "execution_count": 99,
   "id": "896c8ecd",
   "metadata": {},
   "outputs": [
    {
     "name": "stdout",
     "output_type": "stream",
     "text": [
      "0.1\n",
      "0.2\n",
      "0.30000000000000004\n",
      "(0, 2)\n",
      "0.4\n",
      "(0, 2)\n",
      "Wall time: 1min 28s\n"
     ]
    }
   ],
   "source": [
    "%%time\n",
    "l = []\n",
    "for e in epsilons:\n",
    "    print(e)\n",
    "    l.append(consensus_time_barabasi(ns, barabasi_edges, e, MC_steps, opinion0_prob, q, q0, max_steps = 10**4))"
   ]
  },
  {
   "cell_type": "code",
   "execution_count": null,
   "id": "2281b0e0",
   "metadata": {},
   "outputs": [],
   "source": [
    "df = pd.DataFrame(l, columns = ns)\n",
    "df.to_csv(f'data/Barabasi_{q}_{q0}.csv')"
   ]
  },
  {
   "cell_type": "code",
   "execution_count": 203,
   "id": "f2f82090",
   "metadata": {},
   "outputs": [
    {
     "data": {
      "text/plain": [
       "<matplotlib.legend.Legend at 0x1cfeb55b160>"
      ]
     },
     "execution_count": 203,
     "metadata": {},
     "output_type": "execute_result"
    },
    {
     "data": {
      "image/png": "[encoded data removed]",
      "text/plain": [
       "<Figure size 432x288 with 1 Axes>"
      ]
     },
     "metadata": {
      "needs_background": "light"
     },
     "output_type": "display_data"
    }
   ],
   "source": [
    "for e in l:\n",
    "    plt.plot(ns, e)\n",
    "plt.legend(epsilons)\n",
    "plt.title('Time to consensus as function of network size for BA(N, 8)')\n",
    "plt.xlabel('N')\n",
    "plt.ylabel('MCS')\n",
    "plt.savefig(f'plots/Barabasi_consensus_{q}_{q0}.png')"
   ]
  },
  {
   "cell_type": "markdown",
   "id": "8ffccdcb",
   "metadata": {},
   "source": [
    "### Watts"
   ]
  },
  {
   "cell_type": "code",
   "execution_count": 65,
   "id": "6460e6db",
   "metadata": {},
   "outputs": [],
   "source": [
    "ns = [100, 250, 500, 1000, 1500, 2000, 2500, 3000, 4000, 5000]\n",
    "epsilons = np.arange(0.1, 0.45, 0.05)\n",
    "q = 6\n",
    "q0 = 4\n",
    "MC_steps = 100\n",
    "opinion0_prob = 0.5 \n",
    "watts_edges, watts_prob = 12, 0.2"
   ]
  },
  {
   "cell_type": "code",
   "execution_count": null,
   "id": "05bc13f1",
   "metadata": {
    "collapsed": true
   },
   "outputs": [
    {
     "name": "stdout",
     "output_type": "stream",
     "text": [
      "0.1\n",
      "100\n",
      "250\n",
      "500\n",
      "1000\n",
      "1500\n",
      "2000\n",
      "2500\n",
      "3000\n",
      "4000\n",
      "5000\n",
      "0.15000000000000002\n",
      "100\n",
      "250\n",
      "500\n",
      "1000\n",
      "1500\n",
      "2000\n",
      "2500\n",
      "3000\n",
      "4000\n",
      "5000\n",
      "0.20000000000000004\n",
      "100\n",
      "250\n",
      "500\n",
      "1000\n",
      "1500\n",
      "2000\n",
      "2500\n",
      "3000\n",
      "4000\n",
      "5000\n",
      "0.25000000000000006\n",
      "100\n",
      "250\n",
      "500\n",
      "1000\n",
      "1500\n",
      "2000\n",
      "2500\n",
      "3000\n",
      "4000\n",
      "5000\n",
      "0.30000000000000004\n",
      "100\n",
      "250\n",
      "500\n",
      "1000\n",
      "1500\n",
      "2000\n",
      "2500\n",
      "3000\n",
      "4000\n"
     ]
    }
   ],
   "source": [
    "%%time\n",
    "l = []\n",
    "for e in epsilons:\n",
    "    print(e)\n",
    "    l.append(consensus_time_watts(ns, watts_edges, watts_prob, e, MC_steps, opinion0_prob, q, q0, max_steps = 10**4))"
   ]
  },
  {
   "cell_type": "code",
   "execution_count": null,
   "id": "f3bee3b9",
   "metadata": {},
   "outputs": [],
   "source": [
    "df = pd.DataFrame(l, columns = ns)\n",
    "df.to_csv(f'data/Watts_{q}_{q0}.csv')"
   ]
  },
  {
   "cell_type": "code",
   "execution_count": null,
   "id": "7fb122a8",
   "metadata": {},
   "outputs": [],
   "source": [
    "for e in l:\n",
    "    plt.plot(ns, e)\n",
    "plt.legend(epsilons)\n",
    "plt.title('Time to consensus as function of network size for WS(N, 12, 0.2)')\n",
    "plt.xlabel('N')\n",
    "plt.ylabel('MCS')\n",
    "plt.savefig(f'plots/Watts_consensus_{q}_{q0}.png')"
   ]
  },
  {
   "cell_type": "markdown",
   "id": "600d3d98",
   "metadata": {},
   "source": [
    "### Random"
   ]
  },
  {
   "cell_type": "code",
   "execution_count": null,
   "id": "e2451619",
   "metadata": {},
   "outputs": [],
   "source": [
    "ns = [100, 250, 500, 1000, 1500, 2000, 2500, 3000, 4000, 5000]\n",
    "epsilons = np.arange(0.1, 0.45, 0.05)\n",
    "q = 6\n",
    "q0 = 4\n",
    "MC_steps = 100\n",
    "opinion0_prob = 0.5 \n",
    "graph_prob = 0.12"
   ]
  },
  {
   "cell_type": "code",
   "execution_count": null,
   "id": "d9e5dc63",
   "metadata": {
    "scrolled": true
   },
   "outputs": [],
   "source": [
    "%%time\n",
    "l = []\n",
    "for e in epsilons:\n",
    "    print(e)\n",
    "    l.append(consensus_time_random(ns, graph_prob, e, MC_steps, opinion0_prob, q, q0, max_steps = 10**4))"
   ]
  },
  {
   "cell_type": "code",
   "execution_count": null,
   "id": "c2ebf8c3",
   "metadata": {},
   "outputs": [],
   "source": [
    "df = pd.DataFrame(l, columns = ns)\n",
    "df.to_csv(f'data/Random_{q}_{q0}.csv')"
   ]
  },
  {
   "cell_type": "code",
   "execution_count": null,
   "id": "2ac94185",
   "metadata": {},
   "outputs": [],
   "source": [
    "for e in l:\n",
    "    plt.plot(ns, e)\n",
    "plt.legend(epsilons)\n",
    "plt.title('Time to consensus as function of network size for RG(N, 0.12)')\n",
    "plt.xlabel('N')\n",
    "plt.ylabel('MCS')\n",
    "plt.savefig(f'plots/Random_consensus_{q}_{q0}.png')"
   ]
  },
  {
   "cell_type": "markdown",
   "id": "be471b5b",
   "metadata": {},
   "source": [
    "### Random fully connected"
   ]
  },
  {
   "cell_type": "code",
   "execution_count": null,
   "id": "23d307d0",
   "metadata": {},
   "outputs": [],
   "source": [
    "ns = [100, 250, 500, 1000, 1500, 2000, 2500, 3000, 4000, 5000]\n",
    "epsilons = np.arange(0.1, 0.45, 0.05)\n",
    "q = 6\n",
    "q0 = 4\n",
    "MC_steps = 100\n",
    "opinion0_prob = 0.5 \n",
    "graph_prob = 1"
   ]
  },
  {
   "cell_type": "code",
   "execution_count": null,
   "id": "bc3b870e",
   "metadata": {},
   "outputs": [],
   "source": [
    "%%time\n",
    "l = []\n",
    "for e in epsilons:\n",
    "    print(e)\n",
    "    l.append(consensus_time_random(ns, graph_prob, e, MC_steps, opinion0_prob, q, q0, max_steps = 10**4))"
   ]
  },
  {
   "cell_type": "code",
   "execution_count": null,
   "id": "98886d9e",
   "metadata": {},
   "outputs": [],
   "source": [
    "df = pd.DataFrame(l, columns = ns)\n",
    "df.to_csv(f'data/Random_connected_{q}_{q0}.csv')"
   ]
  },
  {
   "cell_type": "code",
   "execution_count": null,
   "id": "a72afa92",
   "metadata": {},
   "outputs": [],
   "source": [
    "for e in l:\n",
    "    plt.plot(ns, e)\n",
    "plt.legend(epsilons)\n",
    "plt.title('Time to consensus as function of network size for RG(N, 1)')\n",
    "plt.xlabel('N')\n",
    "plt.ylabel('MCS')\n",
    "plt.savefig(f'plots/Random_connected_consensus_{q}_{q0}.png')"
   ]
  },
  {
   "cell_type": "markdown",
   "id": "5c36a18d",
   "metadata": {},
   "source": [
    "## Magnetization"
   ]
  },
  {
   "cell_type": "code",
   "execution_count": 65,
   "id": "841cdf1f",
   "metadata": {},
   "outputs": [],
   "source": [
    "def sym_magnetization(graph, opinion0_prob, q, q0, epsilon, max_steps = 10**4):\n",
    "    last_values = np.zeros(10000)\n",
    "    data = extract_data(graph, opinion0_prob)\n",
    "    opinions, neighbors = data\n",
    "    len_opinions = len(opinions)\n",
    "    magnetization = np.zeros(max_steps)\n",
    "    step = 0\n",
    "    while len(list(set(opinions))) == 2 and step < max_steps:\n",
    "        nodes = np.random.randint(0, len_opinions, size=len_opinions)\n",
    "        epsilons = np.random.uniform(size=len_opinions) < epsilon\n",
    "        \n",
    "        for i, node in enumerate(nodes):\n",
    "            opinion = opinions[node]\n",
    "            chosen_neighbors = random.sample(neighbors[node], k = q)\n",
    "            chosen_opinions = opinions[chosen_neighbors]\n",
    "            opposite_opinion = np.count_nonzero(chosen_opinions==-1*opinion)\n",
    "\n",
    "            if opposite_opinion >= q0: \n",
    "                opinions[node] *= -1\n",
    "            elif (epsilons[i] and opposite_opinion > 0):\n",
    "                opinions[node] *= -1\n",
    "                \n",
    "        magnetization[step] = np.sum(opinions)/len_opinions        \n",
    "        step += 1\n",
    "    \n",
    "    magnetization[step:] = magnetization[step - 1]\n",
    "    \n",
    "    return magnetization"
   ]
  },
  {
   "cell_type": "code",
   "execution_count": 43,
   "id": "c345c7e8",
   "metadata": {},
   "outputs": [],
   "source": [
    "def avg_magnetization_random(N, graph_prob, MCsteps, opinion0_prob, q, q0, epsilon, max_steps = 10**4):\n",
    "    results = np.zeros((MCsteps, max_steps))\n",
    "    for i in range(MCsteps):\n",
    "        g = nx.erdos_renyi_graph(N, graph_prob)\n",
    "        while min(dict(g.degree()).values()) < q:\n",
    "            g = nx.erdos_renyi_graph(N, graph_prob)\n",
    "        results[i] = abs(sym_magnetization(g, opinion0_prob, q, q0, epsilon, max_steps))\n",
    "    return np.mean(results, axis = 0)"
   ]
  },
  {
   "cell_type": "code",
   "execution_count": 44,
   "id": "a3cc868e",
   "metadata": {},
   "outputs": [],
   "source": [
    "def avg_magnetization_watts(N, watts_edges, watts_prob, MCsteps, opinion0_prob, q, q0, epsilon, max_steps = 10**4):\n",
    "    results = np.zeros((MCsteps, max_steps))\n",
    "    for i in range(MCsteps):\n",
    "        g = nx.watts_strogatz_graph(N, watts_edges, watts_prob)\n",
    "        while min(dict(g.degree()).values()) < q:\n",
    "            g = nx.watts_strogatz_graph(N, watts_edges, watts_prob)\n",
    "        results[i] = abs(sym_magnetization(g, opinion0_prob, q, q0, epsilon, max_steps))\n",
    "    return np.mean(results, axis = 0)"
   ]
  },
  {
   "cell_type": "code",
   "execution_count": 45,
   "id": "5338caaf",
   "metadata": {},
   "outputs": [],
   "source": [
    "def avg_magnetization_barabasi(N, barabasi_edges, MCsteps, opinion0_prob, q, q0, epsilon, max_steps = 10**4):\n",
    "    results = np.zeros((MCsteps, max_steps))\n",
    "    for i in range(MCsteps):\n",
    "        g = nx.barabasi_albert_graph(N, barabasi_edges)\n",
    "        while min(dict(g.degree()).values()) < q:\n",
    "            g = nx.barabasi_albert_graph(N, barabasi_edges)\n",
    "        results[i] = abs(sym_magnetization(g, opinion0_prob, q, q0, epsilon, max_steps))\n",
    "    return np.mean(results, axis = 0)"
   ]
  },
  {
   "cell_type": "code",
   "execution_count": 46,
   "id": "550aa0af",
   "metadata": {},
   "outputs": [],
   "source": [
    "def avg_magnetization_random_last(N, graph_prob, MCsteps, opinion0_prob, q, q0, epsilon, max_steps = 10**4):\n",
    "    results = np.zeros(MCsteps)\n",
    "    for i in range(MCsteps):\n",
    "        g = nx.erdos_renyi_graph(N, graph_prob)\n",
    "        while min(dict(g.degree()).values()) < q:\n",
    "            g = nx.erdos_renyi_graph(N, graph_prob)\n",
    "        results[i] = abs(sym_magnetization(g, opinion0_prob, q, q0, epsilon, max_steps)[-1])\n",
    "    return np.mean(results)"
   ]
  },
  {
   "cell_type": "code",
   "execution_count": 47,
   "id": "aef50584",
   "metadata": {},
   "outputs": [],
   "source": [
    "def avg_magnetization_watts_last(N, watts_edges, watts_prob, MCsteps, opinion0_prob, q, q0, epsilon, max_steps = 10**4):\n",
    "    results = np.zeros(MCsteps)\n",
    "    for i in range(MCsteps):\n",
    "        g = nx.watts_strogatz_graph(N, watts_edges, watts_prob)\n",
    "        while min(dict(g.degree()).values()) < q:\n",
    "            g = nx.watts_strogatz_graph(N, watts_edges, watts_prob)\n",
    "        results[i] = abs(sym_magnetization(g, opinion0_prob, q, q0, epsilon, max_steps)[-1])\n",
    "    return np.mean(results)"
   ]
  },
  {
   "cell_type": "code",
   "execution_count": 48,
   "id": "11177115",
   "metadata": {},
   "outputs": [],
   "source": [
    "def avg_magnetization_barabasi_last(N, barabasi_edges, MCsteps, opinion0_prob, q, q0, epsilon, max_steps = 10**4):\n",
    "    results = np.zeros(MCsteps)\n",
    "    for i in range(MCsteps):\n",
    "        g = nx.barabasi_albert_graph(N, barabasi_edges)\n",
    "        while min(dict(g.degree()).values()) < q:\n",
    "            g = nx.barabasi_albert_graph(N, barabasi_edges)\n",
    "        results[i] = abs(sym_magnetization(g, opinion0_prob, q, q0, epsilon, max_steps)[-1])\n",
    "    return np.mean(results)"
   ]
  },
  {
   "cell_type": "markdown",
   "id": "01d924a8",
   "metadata": {},
   "source": [
    "## Concentration"
   ]
  },
  {
   "cell_type": "code",
   "execution_count": 59,
   "id": "9decbd93",
   "metadata": {},
   "outputs": [],
   "source": [
    "def sym_concentration(graph, opinion0_prob, q, q0, epsilon, max_steps = 10**4):\n",
    "    last_values = np.zeros(10000)\n",
    "    data = extract_data(graph, opinion0_prob)\n",
    "    opinions, neighbors = data\n",
    "    len_opinions = len(opinions)\n",
    "    concentration_win = np.zeros(max_steps)\n",
    "    step = 0\n",
    "    while len(list(set(opinions))) == 2 and step < max_steps:\n",
    "        nodes = np.random.randint(0, len_opinions, size=len_opinions)\n",
    "        epsilons = np.random.uniform(size=len_opinions) < epsilon\n",
    "        \n",
    "        for i, node in enumerate(nodes):\n",
    "            opinion = opinions[node]\n",
    "            chosen_neighbors = random.sample(neighbors[node], k = q)\n",
    "            chosen_opinions = opinions[chosen_neighbors]\n",
    "            opposite_opinion = np.count_nonzero(chosen_opinions==-1*opinion)\n",
    "\n",
    "            if opposite_opinion >= q0: \n",
    "                opinions[node] *= -1\n",
    "            elif (epsilons[i] and opposite_opinion > 0):\n",
    "                opinions[node] *= -1\n",
    "                   \n",
    "        step += 1\n",
    "    \n",
    "    concentration = np.count_nonzero(opinions==-1)/len_opinions\n",
    "    concentration_win = concentration if concentration >= 0.5 else 1-concentration\n",
    "    \n",
    "    return concentration_win"
   ]
  },
  {
   "cell_type": "code",
   "execution_count": 60,
   "id": "6ed38a22",
   "metadata": {},
   "outputs": [],
   "source": [
    "def avg_concentration_random(N, graph_prob, MCsteps, opinion0_prob, q, q0, epsilon, max_steps = 10**4):\n",
    "    concentration = np.zeros(MCsteps)\n",
    "    for i in range(MCsteps):\n",
    "        g = nx.erdos_renyi_graph(N, graph_prob)\n",
    "        while min(dict(g.degree()).values()) < q:\n",
    "            g = nx.erdos_renyi_graph(N, graph_prob)\n",
    "        concentration[i] = sym_concentration(g, opinion0_prob, q, q0, epsilon, max_steps)\n",
    "    return np.mean(concentration)"
   ]
  },
  {
   "cell_type": "code",
   "execution_count": 61,
   "id": "9abd45f0",
   "metadata": {},
   "outputs": [],
   "source": [
    "epsilons = [0.1, 0.15, 0.2, 0.25, 0.3, 0.35, 0.4, 0.45, 0.5, 0.55]\n",
    "q = 4\n",
    "q0 = 2\n",
    "op1 = 0.5\n",
    "N = 150\n",
    "MCsteps = 10\n",
    "max_steps = 1000"
   ]
  },
  {
   "cell_type": "code",
   "execution_count": 62,
   "id": "5d0738c1",
   "metadata": {},
   "outputs": [],
   "source": [
    "conc0_eps = np.zeros(len(epsilons))\n",
    "for i, e in enumerate(epsilons):\n",
    "    conc0_eps[i] = avg_concentration_random(N, 1, MCsteps, op1, q, q0, e, max_steps)"
   ]
  },
  {
   "cell_type": "code",
   "execution_count": 63,
   "id": "fd6334f9",
   "metadata": {},
   "outputs": [],
   "source": [
    "conc1_eps = 1 - conc0_eps "
   ]
  },
  {
   "cell_type": "code",
   "execution_count": 64,
   "id": "5dbcad6f",
   "metadata": {},
   "outputs": [
    {
     "data": {
      "text/plain": [
       "[<matplotlib.lines.Line2D at 0x25376c28>]"
      ]
     },
     "execution_count": 64,
     "metadata": {},
     "output_type": "execute_result"
    },
    {
     "data": {
      "image/png": "[encoded data removed]",
      "text/plain": [
       "<Figure size 432x288 with 1 Axes>"
      ]
     },
     "metadata": {
      "needs_background": "light"
     },
     "output_type": "display_data"
    }
   ],
   "source": [
    "plt.plot(epsilons, conc0_eps)\n",
    "plt.plot(epsilons, conc1_eps)"
   ]
  },
  {
   "cell_type": "code",
   "execution_count": null,
   "id": "c9931cdb",
   "metadata": {},
   "outputs": [],
   "source": []
  },
  {
   "cell_type": "markdown",
   "id": "3be89ce8",
   "metadata": {},
   "source": [
    "# Our modification"
   ]
  },
  {
   "cell_type": "markdown",
   "id": "f3306ed5",
   "metadata": {},
   "source": [
    "## Time to consensus"
   ]
  },
  {
   "cell_type": "code",
   "execution_count": 648,
   "id": "048b6594",
   "metadata": {},
   "outputs": [],
   "source": [
    "def extract_data_common(graph, opinion0_prob):\n",
    "    G = nx.number_of_nodes(graph)\n",
    "    nodes = list(graph.nodes())\n",
    "    opinion0_count = int(opinion0_prob*G)\n",
    "    opinions = [-1]*opinion0_count + [1]*(G - opinion0_count)\n",
    "    random.shuffle(opinions)\n",
    "    neighbors = [0]*G\n",
    "    common = np.zeros((G, G))\n",
    "    for i in range(G):\n",
    "        neighbors[i] = list(graph.neighbors(nodes[i]))\n",
    "    for i in range(G):\n",
    "        for j in range(G):\n",
    "            common[i][j] = len(set(neighbors[i]) & set(neighbors[j]))\n",
    "    return opinions, neighbors, common"
   ]
  },
  {
   "cell_type": "code",
   "execution_count": 649,
   "id": "4a03ae59",
   "metadata": {},
   "outputs": [],
   "source": [
    "def sym_to_consensus_common(graph, opinion0_prob, q, q0, epsilon, max_steps = 10**4):\n",
    "    last_values = np.zeros(10000)\n",
    "    opinions, neighbors, common = extract_data_common(graph, opinion0_prob)\n",
    "    len_opinions = len(opinions)\n",
    "    step = 0\n",
    "    while len(list(set(opinions))) == 2 and step < max_steps:\n",
    "        chosen = np.random.randint(0, len_opinions)\n",
    "        opinion = opinions[chosen]\n",
    "        chosen_neighbors = random.sample(neighbors[chosen], k = q)\n",
    "        chosen_opinions = np.array([opinions[i] for i in chosen_neighbors])\n",
    "        chosen_common = [common[chosen, i] for i in chosen_neighbors]\n",
    "        opposite_inds = np.where(chosen_opinions == -1*opinion)[0]\n",
    "        opposite_opinion = np.sum([chosen_common[i] for i in opposite_inds]) / np.sum(chosen_common) \\\n",
    "            if np.sum(chosen_common) > 0 else 0\n",
    "        \n",
    "        if opposite_opinion > q0 or (epsilon > np.random.uniform() and opposite_opinion > 0):\n",
    "            opinions[chosen] *= -1\n",
    "        step += 1\n",
    "        \n",
    "    return step"
   ]
  },
  {
   "cell_type": "code",
   "execution_count": 650,
   "id": "265a39c6",
   "metadata": {},
   "outputs": [],
   "source": [
    "def monte_carlo_sym_random_common(n, graph_prob, MC_steps, opinion0_prob, q, q0, epsilon, max_steps):\n",
    "    mean_step = 0\n",
    "    steps = 0\n",
    "    counter = 0\n",
    "    for i in range(MC_steps):\n",
    "        g = nx.erdos_renyi_graph(n, graph_prob)\n",
    "        while min(dict(g.degree()).values()) < q:\n",
    "            g = nx.erdos_renyi_graph(n, graph_prob)\n",
    "        steps = sym_to_consensus_common(g, opinion0_prob, q, q0, epsilon, max_steps)\n",
    "        mean_step += steps\n",
    "        if steps == max_steps:\n",
    "            counter += 1\n",
    "            if counter == 3:\n",
    "                return 0\n",
    "    return mean_step / MC_steps"
   ]
  },
  {
   "cell_type": "code",
   "execution_count": 651,
   "id": "1280bf74",
   "metadata": {},
   "outputs": [],
   "source": [
    "def monte_carlo_sym_barabasi_common(n, barabasi_edges, MC_steps, opinion0_prob, q, q0, epsilon, max_steps):\n",
    "    mean_step = 0\n",
    "    steps = 0\n",
    "    counter = 0\n",
    "    for i in range(MC_steps):\n",
    "        g = nx.barabasi_albert_graph(n, barabasi_edges)\n",
    "        while min(dict(g.degree()).values()) < q:\n",
    "            g = nx.barabasi_albert_graph(N, barabasi_edges)\n",
    "        steps = sym_to_consensus_common(g, opinion0_prob, q, q0, epsilon, max_steps)\n",
    "        mean_step += steps\n",
    "        if steps == max_steps:\n",
    "            counter += 1\n",
    "            if counter == 3:\n",
    "                print((0, i))\n",
    "                return 0\n",
    "    return mean_step / MC_steps"
   ]
  },
  {
   "cell_type": "code",
   "execution_count": 652,
   "id": "31e4b64a",
   "metadata": {},
   "outputs": [],
   "source": [
    "def monte_carlo_sym_watts_common(n, watts_edges, watts_prob, MC_steps, opinion0_prob, q, q0, epsilon, max_steps):\n",
    "    mean_step = 0\n",
    "    steps = 0\n",
    "    counter = 0\n",
    "    for i in range(MC_steps):\n",
    "        g = nx.watts_strogatz_graph(n, watts_edges, watts_prob)\n",
    "        while min(dict(g.degree()).values()) < q:\n",
    "            g = nx.watts_strogatz_graph(n, watts_edges, watts_prob)\n",
    "        steps += sym_to_consensus_common(g, opinion0_prob, q, q0, epsilon, max_steps)\n",
    "        mean_step += steps\n",
    "        if steps == max_steps:\n",
    "            counter += 1\n",
    "            if counter == 3:\n",
    "                return 0\n",
    "    return mean_step / MC_steps"
   ]
  },
  {
   "cell_type": "code",
   "execution_count": 653,
   "id": "950a7c0a",
   "metadata": {},
   "outputs": [],
   "source": [
    "def consensus_time_random_common(ns, graph_prob, epsilon, MC_steps, opinion0_prob, q, q0, max_steps = 10**4):\n",
    "    mean_times = np.zeros(len(ns))\n",
    "    for n in range(len(ns)):\n",
    "        print(ns[n])\n",
    "        mean_times[n] = monte_carlo_sym_random_common(ns[n], graph_prob, MC_steps, opinion0_prob, q, q0, epsilon, max_steps)\n",
    "    return mean_times"
   ]
  },
  {
   "cell_type": "code",
   "execution_count": 654,
   "id": "d0f3641c",
   "metadata": {},
   "outputs": [],
   "source": [
    "def consensus_time_barabasi_common(ns, barabasi_edges, epsilon, MC_steps, opinion0_prob, q, q0, max_steps = 10**4):\n",
    "    mean_times = np.zeros(len(ns))\n",
    "    for n in range(len(ns)):\n",
    "        print(ns[n])\n",
    "        mean_times[n] = monte_carlo_sym_barabasi_common(ns[n], barabasi_edges, MC_steps, opinion0_prob, q, q0, epsilon, max_steps)\n",
    "    return mean_times"
   ]
  },
  {
   "cell_type": "code",
   "execution_count": 655,
   "id": "15fef312",
   "metadata": {},
   "outputs": [],
   "source": [
    "def consensus_time_watts_common(ns, watts_edges, watts_prob, epsilon, MC_steps, opinion0_prob, q, q0, max_steps = 10**4):\n",
    "    mean_times = np.zeros(len(ns))\n",
    "    for n in range(len(ns)):\n",
    "        print(ns[n])\n",
    "        mean_times[n] = monte_carlo_sym_watts_common(ns[n], watts_edges, watts_prob, MC_steps, opinion0_prob, q, q0, epsilon, max_steps)\n",
    "    return mean_times"
   ]
  },
  {
   "cell_type": "markdown",
   "id": "322cd9a4",
   "metadata": {},
   "source": [
    "## Magnetization"
   ]
  },
  {
   "cell_type": "code",
   "execution_count": 656,
   "id": "77ab50ad",
   "metadata": {},
   "outputs": [],
   "source": [
    "def sym_magnetization_common(graph, opinion0_prob, q, q0, epsilon, max_steps = 10**4):\n",
    "    last_values = np.zeros(10000)\n",
    "    opinions, neighbors, common = extract_data_common(graph, opinion0_prob)\n",
    "    len_opinions = len(opinions)\n",
    "    step = 0\n",
    "    magnetization = np.zeros(max_steps)\n",
    "    while len(list(set(opinions))) == 2 and step < max_steps:\n",
    "        chosen = np.random.randint(0, len_opinions)\n",
    "        opinion = opinions[chosen]\n",
    "        chosen_neighbors = random.sample(neighbors[chosen], k = q)\n",
    "        chosen_opinions = np.array([opinions[i] for i in chosen_neighbors])\n",
    "        chosen_common = [common[chosen, i] for i in chosen_neighbors]\n",
    "        opposite_inds = np.where(chosen_opinions == -1*opinion)[0]\n",
    "        sum_chosen = np.sum(chosen_common)\n",
    "        opposite_opinion = np.sum([chosen_common[i] for i in opposite_inds]) / sum_chosen \\\n",
    "            if sum_chosen > 0 else 0\n",
    "        \n",
    "        if opposite_opinion > q0 or (epsilon > np.random.uniform() and opposite_opinion > 0):\n",
    "            opinions[chosen] *= -1\n",
    "        magnetization[step] = np.sum(opinions)/len_opinions\n",
    "        step += 1\n",
    "    magnetization[step:] = magnetization[step - 1]\n",
    "    return magnetization "
   ]
  },
  {
   "cell_type": "code",
   "execution_count": 657,
   "id": "b1c1175b",
   "metadata": {},
   "outputs": [],
   "source": [
    "def avg_magnetization_common_random(N, graph_prob, MCsteps, opinion0_prob, q, q0, epsilon, max_steps = 10**4):\n",
    "    results = np.zeros((MCsteps, max_steps))\n",
    "    for i in range(MCsteps):\n",
    "        g = nx.erdos_renyi_graph(N, graph_prob)\n",
    "        while min(dict(g.degree()).values()) < q:\n",
    "            g = nx.erdos_renyi_graph(N, graph_prob)\n",
    "        results[i] = abs(sym_magnetization_common(g, opinion0_prob, q, q0, epsilon, max_steps))\n",
    "    return np.mean(results, axis = 0)"
   ]
  },
  {
   "cell_type": "code",
   "execution_count": 658,
   "id": "47ba81db",
   "metadata": {},
   "outputs": [],
   "source": [
    "def avg_magnetization_common_watts(N, watts_edges, watts_prob, MCsteps, opinion0_prob, q, q0, epsilon, max_steps = 10**4):\n",
    "    results = np.zeros((MCsteps, max_steps))\n",
    "    for i in range(MCsteps):\n",
    "        g = nx.watts_strogatz_graph(N, watts_edges, watts_prob)\n",
    "        while min(dict(g.degree()).values()) < q:\n",
    "            g = nx.watts_strogatz_graph(N, watts_edges, watts_prob)\n",
    "        results[i] = abs(sym_magnetization_common(g, opinion0_prob, q, q0, epsilon, max_steps))\n",
    "    return np.mean(results, axis = 0)"
   ]
  },
  {
   "cell_type": "code",
   "execution_count": 659,
   "id": "95821036",
   "metadata": {},
   "outputs": [],
   "source": [
    "def avg_magnetization_common_barabasi(N, barabasi_edges, MCsteps, opinion0_prob, q, q0, epsilon, max_steps = 10**4):\n",
    "    results = np.zeros((MCsteps, max_steps))\n",
    "    for i in range(MCsteps):\n",
    "        g = nx.barabasi_albert_graph(N, barabasi_edges)\n",
    "        while min(dict(g.degree()).values()) < q:\n",
    "            g = nx.barabasi_albert_graph(N, barabasi_edges)\n",
    "        results[i] = abs(sym_magnetization_common(g, opinion0_prob, q, q0, epsilon, max_steps))\n",
    "    return np.mean(results, axis = 0)"
   ]
  },
  {
   "cell_type": "code",
   "execution_count": 660,
   "id": "ec8c0091",
   "metadata": {},
   "outputs": [],
   "source": [
    "def avg_magnetization_common_random_last(N, graph_prob, MCsteps, opinion0_prob, q, q0, epsilon, max_steps = 10**4):\n",
    "    results = np.zeros(MCsteps)\n",
    "    for i in range(MCsteps):\n",
    "        g = nx.erdos_renyi_graph(N, graph_prob)\n",
    "        while min(dict(g.degree()).values()) < q:\n",
    "            g = nx.erdos_renyi_graph(N, graph_prob)\n",
    "        results[i] = abs(sym_magnetization_common(g, opinion0_prob, q, q0, epsilon, max_steps)[-1])\n",
    "    return np.mean(results)"
   ]
  },
  {
   "cell_type": "code",
   "execution_count": 661,
   "id": "36d8afdb",
   "metadata": {},
   "outputs": [],
   "source": [
    "def avg_magnetization_common_watts_last(N, watts_edges, watts_prob, MCsteps, opinion0_prob, q, q0, epsilon, max_steps = 10**4):\n",
    "    results = np.zeros(MCsteps)\n",
    "    for i in range(MCsteps):\n",
    "        g = nx.watts_strogatz_graph(N, watts_edges, watts_prob)\n",
    "        while min(dict(g.degree()).values()) < q:\n",
    "            g = nx.watts_strogatz_graph(N, watts_edges, watts_prob)\n",
    "        results[i] = abs(sym_magnetization_common(g, opinion0_prob, q, q0, epsilon, max_steps)[-1])\n",
    "    return np.mean(results)"
   ]
  },
  {
   "cell_type": "code",
   "execution_count": 662,
   "id": "1d0478e7",
   "metadata": {},
   "outputs": [],
   "source": [
    "def avg_magnetization_common_barabasi_last(N, barabasi_edges, MCsteps, opinion0_prob, q, q0, epsilon, max_steps = 10**4):\n",
    "    results = np.zeros(MCsteps)\n",
    "    for i in range(MCsteps):\n",
    "        g = nx.barabasi_albert_graph(N, barabasi_edges)\n",
    "        while min(dict(g.degree()).values()) < q:\n",
    "            g = nx.barabasi_albert_graph(N, barabasi_edges)\n",
    "        results[i] = abs(sym_magnetization_common(g, opinion0_prob, q, q0, epsilon, max_steps)[-1])\n",
    "    return np.mean(results)"
   ]
  },
  {
   "cell_type": "code",
   "execution_count": null,
   "id": "074c65cd",
   "metadata": {
    "scrolled": true
   },
   "outputs": [],
   "source": [
    "mag_barabasi = avg_magnetization_barabasi(N = 100, barabasi_edges = 6, MCsteps = 100, opinion0_prob = 0.5, q = 6, q0 = 4, epsilon = 0.1, max_steps = 10**4)"
   ]
  },
  {
   "cell_type": "code",
   "execution_count": null,
   "id": "a1223c9e",
   "metadata": {
    "scrolled": true
   },
   "outputs": [],
   "source": [
    "mag_barabasi_common = avg_magnetization_common_barabasi(N = 100, barabasi_edges = 6, MCsteps = 100, opinion0_prob = 0.5, q = 6, q0 = 2/3, epsilon = 0.1, max_steps = 10**4)"
   ]
  },
  {
   "cell_type": "code",
   "execution_count": null,
   "id": "850b934a",
   "metadata": {},
   "outputs": [],
   "source": [
    "mag_watts = avg_magnetization_watts(N = 100, watts_edges = 11, watts_prob = 0.5, MCsteps = 100, opinion0_prob = 0.5, q = 6, q0 = 4, epsilon = 0.1, max_steps = 10**4)"
   ]
  },
  {
   "cell_type": "code",
   "execution_count": null,
   "id": "f1859785",
   "metadata": {},
   "outputs": [],
   "source": [
    "mag_watts_barabasi = avg_magnetization_common_watts(N = 100, watts_edges = 11, watts_prob = 0.5, MCsteps = 100, opinion0_prob = 0.5, q = 6, q0 = 2/3, epsilon = 0.1, max_steps = 10**4)"
   ]
  },
  {
   "cell_type": "code",
   "execution_count": null,
   "id": "2667ff4e",
   "metadata": {},
   "outputs": [],
   "source": [
    "mag_random = avg_magnetization_random(N = 100, graph_prob = 0.5, MCsteps = 100, opinion0_prob = 0.5, q = 6, q0 = 4, epsilon = 0.1, max_steps = 10**4)"
   ]
  },
  {
   "cell_type": "code",
   "execution_count": null,
   "id": "e4f15e09",
   "metadata": {},
   "outputs": [],
   "source": [
    "mag_random_common = avg_magnetization_common_random(N = 100, graph_prob = 0.5, MCsteps = 100, opinion0_prob = 0.5, q = 6, q0 = 2/3, epsilon = 0.1, max_steps = 10**4)"
   ]
  },
  {
   "cell_type": "code",
   "execution_count": null,
   "id": "0c96d69a",
   "metadata": {},
   "outputs": [],
   "source": [
    "plt.plot(mag_random[1:1000])\n",
    "plt.plot(mag_random_common[1:1000])"
   ]
  },
  {
   "cell_type": "code",
   "execution_count": null,
   "id": "f6d98d50",
   "metadata": {},
   "outputs": [],
   "source": [
    "plt.plot(mag_watts[1:1000])\n",
    "plt.plot(mag_watts_common[1:1000])"
   ]
  },
  {
   "cell_type": "code",
   "execution_count": null,
   "id": "3aefd069",
   "metadata": {},
   "outputs": [],
   "source": [
    "plt.plot(mag_barabasi[1:1000])\n",
    "plt.plot(mag_barabasi_common[1:1000])"
   ]
  },
  {
   "cell_type": "code",
   "execution_count": null,
   "id": "738c1f27",
   "metadata": {},
   "outputs": [],
   "source": []
  },
  {
   "cell_type": "code",
   "execution_count": 72,
   "id": "b78ebd5e",
   "metadata": {},
   "outputs": [],
   "source": [
    "ns = [100, 250, 500, 1000]\n",
    "epsilons = np.arange(0.1, 0.3, 0.1)\n",
    "q = 6\n",
    "q0 = 2/3\n",
    "MC_steps = 100\n",
    "opinion0_prob = 0.5\n",
    "barabasi_edges = 8"
   ]
  },
  {
   "cell_type": "code",
   "execution_count": 73,
   "id": "408993f8",
   "metadata": {
    "collapsed": true
   },
   "outputs": [
    {
     "name": "stdout",
     "output_type": "stream",
     "text": [
      "0.1\n",
      "100\n",
      "(0, 16)\n",
      "250\n",
      "(0, 5)\n",
      "500\n"
     ]
    },
    {
     "ename": "KeyboardInterrupt",
     "evalue": "",
     "output_type": "error",
     "traceback": [
      "\u001b[1;31m---------------------------------------------------------------------------\u001b[0m",
      "\u001b[1;31mKeyboardInterrupt\u001b[0m                         Traceback (most recent call last)",
      "\u001b[1;32m<timed exec>\u001b[0m in \u001b[0;36m<module>\u001b[1;34m\u001b[0m\n",
      "\u001b[1;32m<ipython-input-69-41ad8d29cc87>\u001b[0m in \u001b[0;36mconsensus_time_barabasi_common\u001b[1;34m(ns, barabasi_edges, epsilon, MC_steps, opinion0_prob, q, q0, max_steps)\u001b[0m\n\u001b[0;32m      3\u001b[0m     \u001b[1;32mfor\u001b[0m \u001b[0mn\u001b[0m \u001b[1;32min\u001b[0m \u001b[0mrange\u001b[0m\u001b[1;33m(\u001b[0m\u001b[0mlen\u001b[0m\u001b[1;33m(\u001b[0m\u001b[0mns\u001b[0m\u001b[1;33m)\u001b[0m\u001b[1;33m)\u001b[0m\u001b[1;33m:\u001b[0m\u001b[1;33m\u001b[0m\u001b[1;33m\u001b[0m\u001b[0m\n\u001b[0;32m      4\u001b[0m         \u001b[0mprint\u001b[0m\u001b[1;33m(\u001b[0m\u001b[0mns\u001b[0m\u001b[1;33m[\u001b[0m\u001b[0mn\u001b[0m\u001b[1;33m]\u001b[0m\u001b[1;33m)\u001b[0m\u001b[1;33m\u001b[0m\u001b[1;33m\u001b[0m\u001b[0m\n\u001b[1;32m----> 5\u001b[1;33m         \u001b[0mmean_times\u001b[0m\u001b[1;33m[\u001b[0m\u001b[0mn\u001b[0m\u001b[1;33m]\u001b[0m \u001b[1;33m=\u001b[0m \u001b[0mmonte_carlo_sym_barabasi_common\u001b[0m\u001b[1;33m(\u001b[0m\u001b[0mns\u001b[0m\u001b[1;33m[\u001b[0m\u001b[0mn\u001b[0m\u001b[1;33m]\u001b[0m\u001b[1;33m,\u001b[0m \u001b[0mbarabasi_edges\u001b[0m\u001b[1;33m,\u001b[0m \u001b[0mMC_steps\u001b[0m\u001b[1;33m,\u001b[0m \u001b[0mopinion0_prob\u001b[0m\u001b[1;33m,\u001b[0m \u001b[0mq\u001b[0m\u001b[1;33m,\u001b[0m \u001b[0mq0\u001b[0m\u001b[1;33m,\u001b[0m \u001b[0mepsilon\u001b[0m\u001b[1;33m,\u001b[0m \u001b[0mmax_steps\u001b[0m\u001b[1;33m)\u001b[0m\u001b[1;33m\u001b[0m\u001b[1;33m\u001b[0m\u001b[0m\n\u001b[0m\u001b[0;32m      6\u001b[0m     \u001b[1;32mreturn\u001b[0m \u001b[0mmean_times\u001b[0m\u001b[1;33m\u001b[0m\u001b[1;33m\u001b[0m\u001b[0m\n",
      "\u001b[1;32m<ipython-input-65-ca99252d621f>\u001b[0m in \u001b[0;36mmonte_carlo_sym_barabasi_common\u001b[1;34m(n, barabasi_edges, MC_steps, opinion0_prob, q, q0, epsilon, max_steps)\u001b[0m\n\u001b[0;32m      7\u001b[0m     \u001b[1;32mfor\u001b[0m \u001b[0mi\u001b[0m \u001b[1;32min\u001b[0m \u001b[0mrange\u001b[0m\u001b[1;33m(\u001b[0m\u001b[0mMC_steps\u001b[0m\u001b[1;33m)\u001b[0m\u001b[1;33m:\u001b[0m\u001b[1;33m\u001b[0m\u001b[1;33m\u001b[0m\u001b[0m\n\u001b[0;32m      8\u001b[0m         \u001b[0mg\u001b[0m \u001b[1;33m=\u001b[0m \u001b[0mnx\u001b[0m\u001b[1;33m.\u001b[0m\u001b[0mbarabasi_albert_graph\u001b[0m\u001b[1;33m(\u001b[0m\u001b[0mn\u001b[0m\u001b[1;33m,\u001b[0m \u001b[0mbarabasi_edges\u001b[0m\u001b[1;33m)\u001b[0m\u001b[1;33m\u001b[0m\u001b[1;33m\u001b[0m\u001b[0m\n\u001b[1;32m----> 9\u001b[1;33m         \u001b[0msteps\u001b[0m \u001b[1;33m=\u001b[0m \u001b[0msym_to_consensus_common\u001b[0m\u001b[1;33m(\u001b[0m\u001b[0mg\u001b[0m\u001b[1;33m,\u001b[0m \u001b[0mopinion0_prob\u001b[0m\u001b[1;33m,\u001b[0m \u001b[0mq\u001b[0m\u001b[1;33m,\u001b[0m \u001b[0mq0\u001b[0m\u001b[1;33m,\u001b[0m \u001b[0mepsilon\u001b[0m\u001b[1;33m,\u001b[0m \u001b[0mmax_steps\u001b[0m\u001b[1;33m)\u001b[0m\u001b[1;33m\u001b[0m\u001b[1;33m\u001b[0m\u001b[0m\n\u001b[0m\u001b[0;32m     10\u001b[0m         \u001b[0mmean_step\u001b[0m \u001b[1;33m+=\u001b[0m \u001b[0msteps\u001b[0m\u001b[1;33m\u001b[0m\u001b[1;33m\u001b[0m\u001b[0m\n\u001b[0;32m     11\u001b[0m         \u001b[1;32mif\u001b[0m \u001b[0msteps\u001b[0m \u001b[1;33m==\u001b[0m \u001b[0mmax_steps\u001b[0m\u001b[1;33m:\u001b[0m\u001b[1;33m\u001b[0m\u001b[1;33m\u001b[0m\u001b[0m\n",
      "\u001b[1;32m<ipython-input-61-cac4647e1f17>\u001b[0m in \u001b[0;36msym_to_consensus_common\u001b[1;34m(graph, opinion0_prob, q, q0, epsilon, max_steps)\u001b[0m\n\u001b[0;32m      5\u001b[0m     \u001b[0mlen_opinions\u001b[0m \u001b[1;33m=\u001b[0m \u001b[0mlen\u001b[0m\u001b[1;33m(\u001b[0m\u001b[0mopinions\u001b[0m\u001b[1;33m)\u001b[0m\u001b[1;33m\u001b[0m\u001b[1;33m\u001b[0m\u001b[0m\n\u001b[0;32m      6\u001b[0m     \u001b[0mstep\u001b[0m \u001b[1;33m=\u001b[0m \u001b[1;36m0\u001b[0m\u001b[1;33m\u001b[0m\u001b[1;33m\u001b[0m\u001b[0m\n\u001b[1;32m----> 7\u001b[1;33m     \u001b[1;32mwhile\u001b[0m \u001b[0mlen\u001b[0m\u001b[1;33m(\u001b[0m\u001b[0mlist\u001b[0m\u001b[1;33m(\u001b[0m\u001b[0mset\u001b[0m\u001b[1;33m(\u001b[0m\u001b[0mopinions\u001b[0m\u001b[1;33m)\u001b[0m\u001b[1;33m)\u001b[0m\u001b[1;33m)\u001b[0m \u001b[1;33m==\u001b[0m \u001b[1;36m2\u001b[0m \u001b[1;32mand\u001b[0m \u001b[0mstep\u001b[0m \u001b[1;33m<\u001b[0m \u001b[0mmax_steps\u001b[0m\u001b[1;33m:\u001b[0m\u001b[1;33m\u001b[0m\u001b[1;33m\u001b[0m\u001b[0m\n\u001b[0m\u001b[0;32m      8\u001b[0m         \u001b[0mchosen\u001b[0m \u001b[1;33m=\u001b[0m \u001b[0mnp\u001b[0m\u001b[1;33m.\u001b[0m\u001b[0mrandom\u001b[0m\u001b[1;33m.\u001b[0m\u001b[0mrandint\u001b[0m\u001b[1;33m(\u001b[0m\u001b[1;36m0\u001b[0m\u001b[1;33m,\u001b[0m \u001b[0mlen_opinions\u001b[0m\u001b[1;33m)\u001b[0m\u001b[1;33m\u001b[0m\u001b[1;33m\u001b[0m\u001b[0m\n\u001b[0;32m      9\u001b[0m         \u001b[0mopinion\u001b[0m \u001b[1;33m=\u001b[0m \u001b[0mopinions\u001b[0m\u001b[1;33m[\u001b[0m\u001b[0mchosen\u001b[0m\u001b[1;33m]\u001b[0m\u001b[1;33m\u001b[0m\u001b[1;33m\u001b[0m\u001b[0m\n",
      "\u001b[1;31mKeyboardInterrupt\u001b[0m: "
     ]
    }
   ],
   "source": [
    "%%time\n",
    "l = []\n",
    "for e in epsilons:\n",
    "    print(e)\n",
    "    l.append(consensus_time_barabasi_common(ns, barabasi_edges, e, MC_steps, opinion0_prob, q, q0, max_steps = 10**4))"
   ]
  },
  {
   "cell_type": "code",
   "execution_count": null,
   "id": "63cd4732",
   "metadata": {},
   "outputs": [],
   "source": []
  },
  {
   "cell_type": "code",
   "execution_count": 78,
   "id": "bd199efb",
   "metadata": {},
   "outputs": [],
   "source": [
    "barabasz1 = avg_magnetization_barabasi(100, 8, 100, 0.5, 6, 4, 0.1, max_steps = 10**4)"
   ]
  },
  {
   "cell_type": "code",
   "execution_count": null,
   "id": "95a74816",
   "metadata": {},
   "outputs": [],
   "source": [
    "barabasz2 = avg_magnetization_barabasi(100, 8, 100, 0.5, 6, 4, 0.1, max_steps = 10**4)"
   ]
  }
 ],
 "metadata": {
  "kernelspec": {
   "display_name": "Python 3",
   "language": "python",
   "name": "python3"
  },
  "language_info": {
   "codemirror_mode": {
    "name": "ipython",
    "version": 3
   },
   "file_extension": ".py",
   "mimetype": "text/x-python",
   "name": "python",
   "nbconvert_exporter": "python",
   "pygments_lexer": "ipython3",
   "version": "3.8.1"
  }
 },
 "nbformat": 4,
 "nbformat_minor": 5
}
